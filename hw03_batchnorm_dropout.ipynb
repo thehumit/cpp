{
  "nbformat": 4,
  "nbformat_minor": 0,
  "metadata": {
    "hse_dl_year": "2021-fall",
    "colab": {
      "provenance": [],
      "toc_visible": true,
      "include_colab_link": true
    },
    "language_info": {
      "name": "python"
    },
    "kernelspec": {
      "name": "python3",
      "display_name": "Python 3"
    },
    "widgets": {
      "application/vnd.jupyter.widget-state+json": {
        "a50f4573a8034c1db590b5e860c68662": {
          "model_module": "@jupyter-widgets/controls",
          "model_name": "HBoxModel",
          "model_module_version": "1.5.0",
          "state": {
            "_dom_classes": [],
            "_model_module": "@jupyter-widgets/controls",
            "_model_module_version": "1.5.0",
            "_model_name": "HBoxModel",
            "_view_count": null,
            "_view_module": "@jupyter-widgets/controls",
            "_view_module_version": "1.5.0",
            "_view_name": "HBoxView",
            "box_style": "",
            "children": [
              "IPY_MODEL_fe559bb792f14fbda6b2981f0388ae8f",
              "IPY_MODEL_52e683afcefb4b15971a2979e65cfd49",
              "IPY_MODEL_1243d245f7ce4bbd9b3daaf1a74bd2e7"
            ],
            "layout": "IPY_MODEL_0b1c8892cd2c4efbba07cfa32edefbad"
          }
        },
        "fe559bb792f14fbda6b2981f0388ae8f": {
          "model_module": "@jupyter-widgets/controls",
          "model_name": "HTMLModel",
          "model_module_version": "1.5.0",
          "state": {
            "_dom_classes": [],
            "_model_module": "@jupyter-widgets/controls",
            "_model_module_version": "1.5.0",
            "_model_name": "HTMLModel",
            "_view_count": null,
            "_view_module": "@jupyter-widgets/controls",
            "_view_module_version": "1.5.0",
            "_view_name": "HTMLView",
            "description": "",
            "description_tooltip": null,
            "layout": "IPY_MODEL_dc5df819d01a4a9ba70f0de6ec362433",
            "placeholder": "​",
            "style": "IPY_MODEL_af6ae3a7699848719b04958cbf7ca702",
            "value": "100%"
          }
        },
        "52e683afcefb4b15971a2979e65cfd49": {
          "model_module": "@jupyter-widgets/controls",
          "model_name": "FloatProgressModel",
          "model_module_version": "1.5.0",
          "state": {
            "_dom_classes": [],
            "_model_module": "@jupyter-widgets/controls",
            "_model_module_version": "1.5.0",
            "_model_name": "FloatProgressModel",
            "_view_count": null,
            "_view_module": "@jupyter-widgets/controls",
            "_view_module_version": "1.5.0",
            "_view_name": "ProgressView",
            "bar_style": "success",
            "description": "",
            "description_tooltip": null,
            "layout": "IPY_MODEL_975400ac6da0402b87cdc1496955c286",
            "max": 9912422,
            "min": 0,
            "orientation": "horizontal",
            "style": "IPY_MODEL_3064a71953e940f68c03b8ea54a766ab",
            "value": 9912422
          }
        },
        "1243d245f7ce4bbd9b3daaf1a74bd2e7": {
          "model_module": "@jupyter-widgets/controls",
          "model_name": "HTMLModel",
          "model_module_version": "1.5.0",
          "state": {
            "_dom_classes": [],
            "_model_module": "@jupyter-widgets/controls",
            "_model_module_version": "1.5.0",
            "_model_name": "HTMLModel",
            "_view_count": null,
            "_view_module": "@jupyter-widgets/controls",
            "_view_module_version": "1.5.0",
            "_view_name": "HTMLView",
            "description": "",
            "description_tooltip": null,
            "layout": "IPY_MODEL_daa901bec71742e48325dcd36afe8a91",
            "placeholder": "​",
            "style": "IPY_MODEL_279cfbdfc8dd459784efe7a319d9b9d0",
            "value": " 9912422/9912422 [00:00&lt;00:00, 98941966.73it/s]"
          }
        },
        "0b1c8892cd2c4efbba07cfa32edefbad": {
          "model_module": "@jupyter-widgets/base",
          "model_name": "LayoutModel",
          "model_module_version": "1.2.0",
          "state": {
            "_model_module": "@jupyter-widgets/base",
            "_model_module_version": "1.2.0",
            "_model_name": "LayoutModel",
            "_view_count": null,
            "_view_module": "@jupyter-widgets/base",
            "_view_module_version": "1.2.0",
            "_view_name": "LayoutView",
            "align_content": null,
            "align_items": null,
            "align_self": null,
            "border": null,
            "bottom": null,
            "display": null,
            "flex": null,
            "flex_flow": null,
            "grid_area": null,
            "grid_auto_columns": null,
            "grid_auto_flow": null,
            "grid_auto_rows": null,
            "grid_column": null,
            "grid_gap": null,
            "grid_row": null,
            "grid_template_areas": null,
            "grid_template_columns": null,
            "grid_template_rows": null,
            "height": null,
            "justify_content": null,
            "justify_items": null,
            "left": null,
            "margin": null,
            "max_height": null,
            "max_width": null,
            "min_height": null,
            "min_width": null,
            "object_fit": null,
            "object_position": null,
            "order": null,
            "overflow": null,
            "overflow_x": null,
            "overflow_y": null,
            "padding": null,
            "right": null,
            "top": null,
            "visibility": null,
            "width": null
          }
        },
        "dc5df819d01a4a9ba70f0de6ec362433": {
          "model_module": "@jupyter-widgets/base",
          "model_name": "LayoutModel",
          "model_module_version": "1.2.0",
          "state": {
            "_model_module": "@jupyter-widgets/base",
            "_model_module_version": "1.2.0",
            "_model_name": "LayoutModel",
            "_view_count": null,
            "_view_module": "@jupyter-widgets/base",
            "_view_module_version": "1.2.0",
            "_view_name": "LayoutView",
            "align_content": null,
            "align_items": null,
            "align_self": null,
            "border": null,
            "bottom": null,
            "display": null,
            "flex": null,
            "flex_flow": null,
            "grid_area": null,
            "grid_auto_columns": null,
            "grid_auto_flow": null,
            "grid_auto_rows": null,
            "grid_column": null,
            "grid_gap": null,
            "grid_row": null,
            "grid_template_areas": null,
            "grid_template_columns": null,
            "grid_template_rows": null,
            "height": null,
            "justify_content": null,
            "justify_items": null,
            "left": null,
            "margin": null,
            "max_height": null,
            "max_width": null,
            "min_height": null,
            "min_width": null,
            "object_fit": null,
            "object_position": null,
            "order": null,
            "overflow": null,
            "overflow_x": null,
            "overflow_y": null,
            "padding": null,
            "right": null,
            "top": null,
            "visibility": null,
            "width": null
          }
        },
        "af6ae3a7699848719b04958cbf7ca702": {
          "model_module": "@jupyter-widgets/controls",
          "model_name": "DescriptionStyleModel",
          "model_module_version": "1.5.0",
          "state": {
            "_model_module": "@jupyter-widgets/controls",
            "_model_module_version": "1.5.0",
            "_model_name": "DescriptionStyleModel",
            "_view_count": null,
            "_view_module": "@jupyter-widgets/base",
            "_view_module_version": "1.2.0",
            "_view_name": "StyleView",
            "description_width": ""
          }
        },
        "975400ac6da0402b87cdc1496955c286": {
          "model_module": "@jupyter-widgets/base",
          "model_name": "LayoutModel",
          "model_module_version": "1.2.0",
          "state": {
            "_model_module": "@jupyter-widgets/base",
            "_model_module_version": "1.2.0",
            "_model_name": "LayoutModel",
            "_view_count": null,
            "_view_module": "@jupyter-widgets/base",
            "_view_module_version": "1.2.0",
            "_view_name": "LayoutView",
            "align_content": null,
            "align_items": null,
            "align_self": null,
            "border": null,
            "bottom": null,
            "display": null,
            "flex": null,
            "flex_flow": null,
            "grid_area": null,
            "grid_auto_columns": null,
            "grid_auto_flow": null,
            "grid_auto_rows": null,
            "grid_column": null,
            "grid_gap": null,
            "grid_row": null,
            "grid_template_areas": null,
            "grid_template_columns": null,
            "grid_template_rows": null,
            "height": null,
            "justify_content": null,
            "justify_items": null,
            "left": null,
            "margin": null,
            "max_height": null,
            "max_width": null,
            "min_height": null,
            "min_width": null,
            "object_fit": null,
            "object_position": null,
            "order": null,
            "overflow": null,
            "overflow_x": null,
            "overflow_y": null,
            "padding": null,
            "right": null,
            "top": null,
            "visibility": null,
            "width": null
          }
        },
        "3064a71953e940f68c03b8ea54a766ab": {
          "model_module": "@jupyter-widgets/controls",
          "model_name": "ProgressStyleModel",
          "model_module_version": "1.5.0",
          "state": {
            "_model_module": "@jupyter-widgets/controls",
            "_model_module_version": "1.5.0",
            "_model_name": "ProgressStyleModel",
            "_view_count": null,
            "_view_module": "@jupyter-widgets/base",
            "_view_module_version": "1.2.0",
            "_view_name": "StyleView",
            "bar_color": null,
            "description_width": ""
          }
        },
        "daa901bec71742e48325dcd36afe8a91": {
          "model_module": "@jupyter-widgets/base",
          "model_name": "LayoutModel",
          "model_module_version": "1.2.0",
          "state": {
            "_model_module": "@jupyter-widgets/base",
            "_model_module_version": "1.2.0",
            "_model_name": "LayoutModel",
            "_view_count": null,
            "_view_module": "@jupyter-widgets/base",
            "_view_module_version": "1.2.0",
            "_view_name": "LayoutView",
            "align_content": null,
            "align_items": null,
            "align_self": null,
            "border": null,
            "bottom": null,
            "display": null,
            "flex": null,
            "flex_flow": null,
            "grid_area": null,
            "grid_auto_columns": null,
            "grid_auto_flow": null,
            "grid_auto_rows": null,
            "grid_column": null,
            "grid_gap": null,
            "grid_row": null,
            "grid_template_areas": null,
            "grid_template_columns": null,
            "grid_template_rows": null,
            "height": null,
            "justify_content": null,
            "justify_items": null,
            "left": null,
            "margin": null,
            "max_height": null,
            "max_width": null,
            "min_height": null,
            "min_width": null,
            "object_fit": null,
            "object_position": null,
            "order": null,
            "overflow": null,
            "overflow_x": null,
            "overflow_y": null,
            "padding": null,
            "right": null,
            "top": null,
            "visibility": null,
            "width": null
          }
        },
        "279cfbdfc8dd459784efe7a319d9b9d0": {
          "model_module": "@jupyter-widgets/controls",
          "model_name": "DescriptionStyleModel",
          "model_module_version": "1.5.0",
          "state": {
            "_model_module": "@jupyter-widgets/controls",
            "_model_module_version": "1.5.0",
            "_model_name": "DescriptionStyleModel",
            "_view_count": null,
            "_view_module": "@jupyter-widgets/base",
            "_view_module_version": "1.2.0",
            "_view_name": "StyleView",
            "description_width": ""
          }
        },
        "b0a00b770e354c0caead34e0d308bc03": {
          "model_module": "@jupyter-widgets/controls",
          "model_name": "HBoxModel",
          "model_module_version": "1.5.0",
          "state": {
            "_dom_classes": [],
            "_model_module": "@jupyter-widgets/controls",
            "_model_module_version": "1.5.0",
            "_model_name": "HBoxModel",
            "_view_count": null,
            "_view_module": "@jupyter-widgets/controls",
            "_view_module_version": "1.5.0",
            "_view_name": "HBoxView",
            "box_style": "",
            "children": [
              "IPY_MODEL_e40708558aec42319023fd6502979c15",
              "IPY_MODEL_5551d49510db4d7eb409fa3cbfbccc2b",
              "IPY_MODEL_43312dc4106946d7af01865e16398408"
            ],
            "layout": "IPY_MODEL_a2a695a6ade845f7b040e41e343efa9f"
          }
        },
        "e40708558aec42319023fd6502979c15": {
          "model_module": "@jupyter-widgets/controls",
          "model_name": "HTMLModel",
          "model_module_version": "1.5.0",
          "state": {
            "_dom_classes": [],
            "_model_module": "@jupyter-widgets/controls",
            "_model_module_version": "1.5.0",
            "_model_name": "HTMLModel",
            "_view_count": null,
            "_view_module": "@jupyter-widgets/controls",
            "_view_module_version": "1.5.0",
            "_view_name": "HTMLView",
            "description": "",
            "description_tooltip": null,
            "layout": "IPY_MODEL_98a5a6aee0bd4b809740f8781eb9dc51",
            "placeholder": "​",
            "style": "IPY_MODEL_f606fcec3cbd4b249fcd35dbcf897e47",
            "value": "100%"
          }
        },
        "5551d49510db4d7eb409fa3cbfbccc2b": {
          "model_module": "@jupyter-widgets/controls",
          "model_name": "FloatProgressModel",
          "model_module_version": "1.5.0",
          "state": {
            "_dom_classes": [],
            "_model_module": "@jupyter-widgets/controls",
            "_model_module_version": "1.5.0",
            "_model_name": "FloatProgressModel",
            "_view_count": null,
            "_view_module": "@jupyter-widgets/controls",
            "_view_module_version": "1.5.0",
            "_view_name": "ProgressView",
            "bar_style": "success",
            "description": "",
            "description_tooltip": null,
            "layout": "IPY_MODEL_52ccfed1c0924a9e9243202ed99f7def",
            "max": 28881,
            "min": 0,
            "orientation": "horizontal",
            "style": "IPY_MODEL_b77bf32ca5394cc5ba580004f71aeb20",
            "value": 28881
          }
        },
        "43312dc4106946d7af01865e16398408": {
          "model_module": "@jupyter-widgets/controls",
          "model_name": "HTMLModel",
          "model_module_version": "1.5.0",
          "state": {
            "_dom_classes": [],
            "_model_module": "@jupyter-widgets/controls",
            "_model_module_version": "1.5.0",
            "_model_name": "HTMLModel",
            "_view_count": null,
            "_view_module": "@jupyter-widgets/controls",
            "_view_module_version": "1.5.0",
            "_view_name": "HTMLView",
            "description": "",
            "description_tooltip": null,
            "layout": "IPY_MODEL_a392014ec94040febf856c1c3a318250",
            "placeholder": "​",
            "style": "IPY_MODEL_2966a181cd434757b8b6fccbd65f6d5e",
            "value": " 28881/28881 [00:00&lt;00:00, 502952.86it/s]"
          }
        },
        "a2a695a6ade845f7b040e41e343efa9f": {
          "model_module": "@jupyter-widgets/base",
          "model_name": "LayoutModel",
          "model_module_version": "1.2.0",
          "state": {
            "_model_module": "@jupyter-widgets/base",
            "_model_module_version": "1.2.0",
            "_model_name": "LayoutModel",
            "_view_count": null,
            "_view_module": "@jupyter-widgets/base",
            "_view_module_version": "1.2.0",
            "_view_name": "LayoutView",
            "align_content": null,
            "align_items": null,
            "align_self": null,
            "border": null,
            "bottom": null,
            "display": null,
            "flex": null,
            "flex_flow": null,
            "grid_area": null,
            "grid_auto_columns": null,
            "grid_auto_flow": null,
            "grid_auto_rows": null,
            "grid_column": null,
            "grid_gap": null,
            "grid_row": null,
            "grid_template_areas": null,
            "grid_template_columns": null,
            "grid_template_rows": null,
            "height": null,
            "justify_content": null,
            "justify_items": null,
            "left": null,
            "margin": null,
            "max_height": null,
            "max_width": null,
            "min_height": null,
            "min_width": null,
            "object_fit": null,
            "object_position": null,
            "order": null,
            "overflow": null,
            "overflow_x": null,
            "overflow_y": null,
            "padding": null,
            "right": null,
            "top": null,
            "visibility": null,
            "width": null
          }
        },
        "98a5a6aee0bd4b809740f8781eb9dc51": {
          "model_module": "@jupyter-widgets/base",
          "model_name": "LayoutModel",
          "model_module_version": "1.2.0",
          "state": {
            "_model_module": "@jupyter-widgets/base",
            "_model_module_version": "1.2.0",
            "_model_name": "LayoutModel",
            "_view_count": null,
            "_view_module": "@jupyter-widgets/base",
            "_view_module_version": "1.2.0",
            "_view_name": "LayoutView",
            "align_content": null,
            "align_items": null,
            "align_self": null,
            "border": null,
            "bottom": null,
            "display": null,
            "flex": null,
            "flex_flow": null,
            "grid_area": null,
            "grid_auto_columns": null,
            "grid_auto_flow": null,
            "grid_auto_rows": null,
            "grid_column": null,
            "grid_gap": null,
            "grid_row": null,
            "grid_template_areas": null,
            "grid_template_columns": null,
            "grid_template_rows": null,
            "height": null,
            "justify_content": null,
            "justify_items": null,
            "left": null,
            "margin": null,
            "max_height": null,
            "max_width": null,
            "min_height": null,
            "min_width": null,
            "object_fit": null,
            "object_position": null,
            "order": null,
            "overflow": null,
            "overflow_x": null,
            "overflow_y": null,
            "padding": null,
            "right": null,
            "top": null,
            "visibility": null,
            "width": null
          }
        },
        "f606fcec3cbd4b249fcd35dbcf897e47": {
          "model_module": "@jupyter-widgets/controls",
          "model_name": "DescriptionStyleModel",
          "model_module_version": "1.5.0",
          "state": {
            "_model_module": "@jupyter-widgets/controls",
            "_model_module_version": "1.5.0",
            "_model_name": "DescriptionStyleModel",
            "_view_count": null,
            "_view_module": "@jupyter-widgets/base",
            "_view_module_version": "1.2.0",
            "_view_name": "StyleView",
            "description_width": ""
          }
        },
        "52ccfed1c0924a9e9243202ed99f7def": {
          "model_module": "@jupyter-widgets/base",
          "model_name": "LayoutModel",
          "model_module_version": "1.2.0",
          "state": {
            "_model_module": "@jupyter-widgets/base",
            "_model_module_version": "1.2.0",
            "_model_name": "LayoutModel",
            "_view_count": null,
            "_view_module": "@jupyter-widgets/base",
            "_view_module_version": "1.2.0",
            "_view_name": "LayoutView",
            "align_content": null,
            "align_items": null,
            "align_self": null,
            "border": null,
            "bottom": null,
            "display": null,
            "flex": null,
            "flex_flow": null,
            "grid_area": null,
            "grid_auto_columns": null,
            "grid_auto_flow": null,
            "grid_auto_rows": null,
            "grid_column": null,
            "grid_gap": null,
            "grid_row": null,
            "grid_template_areas": null,
            "grid_template_columns": null,
            "grid_template_rows": null,
            "height": null,
            "justify_content": null,
            "justify_items": null,
            "left": null,
            "margin": null,
            "max_height": null,
            "max_width": null,
            "min_height": null,
            "min_width": null,
            "object_fit": null,
            "object_position": null,
            "order": null,
            "overflow": null,
            "overflow_x": null,
            "overflow_y": null,
            "padding": null,
            "right": null,
            "top": null,
            "visibility": null,
            "width": null
          }
        },
        "b77bf32ca5394cc5ba580004f71aeb20": {
          "model_module": "@jupyter-widgets/controls",
          "model_name": "ProgressStyleModel",
          "model_module_version": "1.5.0",
          "state": {
            "_model_module": "@jupyter-widgets/controls",
            "_model_module_version": "1.5.0",
            "_model_name": "ProgressStyleModel",
            "_view_count": null,
            "_view_module": "@jupyter-widgets/base",
            "_view_module_version": "1.2.0",
            "_view_name": "StyleView",
            "bar_color": null,
            "description_width": ""
          }
        },
        "a392014ec94040febf856c1c3a318250": {
          "model_module": "@jupyter-widgets/base",
          "model_name": "LayoutModel",
          "model_module_version": "1.2.0",
          "state": {
            "_model_module": "@jupyter-widgets/base",
            "_model_module_version": "1.2.0",
            "_model_name": "LayoutModel",
            "_view_count": null,
            "_view_module": "@jupyter-widgets/base",
            "_view_module_version": "1.2.0",
            "_view_name": "LayoutView",
            "align_content": null,
            "align_items": null,
            "align_self": null,
            "border": null,
            "bottom": null,
            "display": null,
            "flex": null,
            "flex_flow": null,
            "grid_area": null,
            "grid_auto_columns": null,
            "grid_auto_flow": null,
            "grid_auto_rows": null,
            "grid_column": null,
            "grid_gap": null,
            "grid_row": null,
            "grid_template_areas": null,
            "grid_template_columns": null,
            "grid_template_rows": null,
            "height": null,
            "justify_content": null,
            "justify_items": null,
            "left": null,
            "margin": null,
            "max_height": null,
            "max_width": null,
            "min_height": null,
            "min_width": null,
            "object_fit": null,
            "object_position": null,
            "order": null,
            "overflow": null,
            "overflow_x": null,
            "overflow_y": null,
            "padding": null,
            "right": null,
            "top": null,
            "visibility": null,
            "width": null
          }
        },
        "2966a181cd434757b8b6fccbd65f6d5e": {
          "model_module": "@jupyter-widgets/controls",
          "model_name": "DescriptionStyleModel",
          "model_module_version": "1.5.0",
          "state": {
            "_model_module": "@jupyter-widgets/controls",
            "_model_module_version": "1.5.0",
            "_model_name": "DescriptionStyleModel",
            "_view_count": null,
            "_view_module": "@jupyter-widgets/base",
            "_view_module_version": "1.2.0",
            "_view_name": "StyleView",
            "description_width": ""
          }
        },
        "08184f8b40cf4581ae1745107e4470f9": {
          "model_module": "@jupyter-widgets/controls",
          "model_name": "HBoxModel",
          "model_module_version": "1.5.0",
          "state": {
            "_dom_classes": [],
            "_model_module": "@jupyter-widgets/controls",
            "_model_module_version": "1.5.0",
            "_model_name": "HBoxModel",
            "_view_count": null,
            "_view_module": "@jupyter-widgets/controls",
            "_view_module_version": "1.5.0",
            "_view_name": "HBoxView",
            "box_style": "",
            "children": [
              "IPY_MODEL_41b9cd979d4c4ef085fc9643b368c00a",
              "IPY_MODEL_8b4c8e32c3de491ebe4afda6d49438af",
              "IPY_MODEL_bc7edfdcded74ebe80e28711dbc24c7b"
            ],
            "layout": "IPY_MODEL_86bf15d0adfd435d920f4628ba87bc45"
          }
        },
        "41b9cd979d4c4ef085fc9643b368c00a": {
          "model_module": "@jupyter-widgets/controls",
          "model_name": "HTMLModel",
          "model_module_version": "1.5.0",
          "state": {
            "_dom_classes": [],
            "_model_module": "@jupyter-widgets/controls",
            "_model_module_version": "1.5.0",
            "_model_name": "HTMLModel",
            "_view_count": null,
            "_view_module": "@jupyter-widgets/controls",
            "_view_module_version": "1.5.0",
            "_view_name": "HTMLView",
            "description": "",
            "description_tooltip": null,
            "layout": "IPY_MODEL_2d27debc479840939a4a8ad263321498",
            "placeholder": "​",
            "style": "IPY_MODEL_fa89c93693f849359af3aeac4a4349eb",
            "value": "100%"
          }
        },
        "8b4c8e32c3de491ebe4afda6d49438af": {
          "model_module": "@jupyter-widgets/controls",
          "model_name": "FloatProgressModel",
          "model_module_version": "1.5.0",
          "state": {
            "_dom_classes": [],
            "_model_module": "@jupyter-widgets/controls",
            "_model_module_version": "1.5.0",
            "_model_name": "FloatProgressModel",
            "_view_count": null,
            "_view_module": "@jupyter-widgets/controls",
            "_view_module_version": "1.5.0",
            "_view_name": "ProgressView",
            "bar_style": "success",
            "description": "",
            "description_tooltip": null,
            "layout": "IPY_MODEL_4de972ff3cab4362849abfb5e4a6f789",
            "max": 1648877,
            "min": 0,
            "orientation": "horizontal",
            "style": "IPY_MODEL_385e8f0bfd094c8ba994cb05f1aa4786",
            "value": 1648877
          }
        },
        "bc7edfdcded74ebe80e28711dbc24c7b": {
          "model_module": "@jupyter-widgets/controls",
          "model_name": "HTMLModel",
          "model_module_version": "1.5.0",
          "state": {
            "_dom_classes": [],
            "_model_module": "@jupyter-widgets/controls",
            "_model_module_version": "1.5.0",
            "_model_name": "HTMLModel",
            "_view_count": null,
            "_view_module": "@jupyter-widgets/controls",
            "_view_module_version": "1.5.0",
            "_view_name": "HTMLView",
            "description": "",
            "description_tooltip": null,
            "layout": "IPY_MODEL_a7dce47fb5b54982ab137e7a1fb1142e",
            "placeholder": "​",
            "style": "IPY_MODEL_e74bc3d2e9ef4cdfa4f94752846b094a",
            "value": " 1648877/1648877 [00:00&lt;00:00, 30724322.60it/s]"
          }
        },
        "86bf15d0adfd435d920f4628ba87bc45": {
          "model_module": "@jupyter-widgets/base",
          "model_name": "LayoutModel",
          "model_module_version": "1.2.0",
          "state": {
            "_model_module": "@jupyter-widgets/base",
            "_model_module_version": "1.2.0",
            "_model_name": "LayoutModel",
            "_view_count": null,
            "_view_module": "@jupyter-widgets/base",
            "_view_module_version": "1.2.0",
            "_view_name": "LayoutView",
            "align_content": null,
            "align_items": null,
            "align_self": null,
            "border": null,
            "bottom": null,
            "display": null,
            "flex": null,
            "flex_flow": null,
            "grid_area": null,
            "grid_auto_columns": null,
            "grid_auto_flow": null,
            "grid_auto_rows": null,
            "grid_column": null,
            "grid_gap": null,
            "grid_row": null,
            "grid_template_areas": null,
            "grid_template_columns": null,
            "grid_template_rows": null,
            "height": null,
            "justify_content": null,
            "justify_items": null,
            "left": null,
            "margin": null,
            "max_height": null,
            "max_width": null,
            "min_height": null,
            "min_width": null,
            "object_fit": null,
            "object_position": null,
            "order": null,
            "overflow": null,
            "overflow_x": null,
            "overflow_y": null,
            "padding": null,
            "right": null,
            "top": null,
            "visibility": null,
            "width": null
          }
        },
        "2d27debc479840939a4a8ad263321498": {
          "model_module": "@jupyter-widgets/base",
          "model_name": "LayoutModel",
          "model_module_version": "1.2.0",
          "state": {
            "_model_module": "@jupyter-widgets/base",
            "_model_module_version": "1.2.0",
            "_model_name": "LayoutModel",
            "_view_count": null,
            "_view_module": "@jupyter-widgets/base",
            "_view_module_version": "1.2.0",
            "_view_name": "LayoutView",
            "align_content": null,
            "align_items": null,
            "align_self": null,
            "border": null,
            "bottom": null,
            "display": null,
            "flex": null,
            "flex_flow": null,
            "grid_area": null,
            "grid_auto_columns": null,
            "grid_auto_flow": null,
            "grid_auto_rows": null,
            "grid_column": null,
            "grid_gap": null,
            "grid_row": null,
            "grid_template_areas": null,
            "grid_template_columns": null,
            "grid_template_rows": null,
            "height": null,
            "justify_content": null,
            "justify_items": null,
            "left": null,
            "margin": null,
            "max_height": null,
            "max_width": null,
            "min_height": null,
            "min_width": null,
            "object_fit": null,
            "object_position": null,
            "order": null,
            "overflow": null,
            "overflow_x": null,
            "overflow_y": null,
            "padding": null,
            "right": null,
            "top": null,
            "visibility": null,
            "width": null
          }
        },
        "fa89c93693f849359af3aeac4a4349eb": {
          "model_module": "@jupyter-widgets/controls",
          "model_name": "DescriptionStyleModel",
          "model_module_version": "1.5.0",
          "state": {
            "_model_module": "@jupyter-widgets/controls",
            "_model_module_version": "1.5.0",
            "_model_name": "DescriptionStyleModel",
            "_view_count": null,
            "_view_module": "@jupyter-widgets/base",
            "_view_module_version": "1.2.0",
            "_view_name": "StyleView",
            "description_width": ""
          }
        },
        "4de972ff3cab4362849abfb5e4a6f789": {
          "model_module": "@jupyter-widgets/base",
          "model_name": "LayoutModel",
          "model_module_version": "1.2.0",
          "state": {
            "_model_module": "@jupyter-widgets/base",
            "_model_module_version": "1.2.0",
            "_model_name": "LayoutModel",
            "_view_count": null,
            "_view_module": "@jupyter-widgets/base",
            "_view_module_version": "1.2.0",
            "_view_name": "LayoutView",
            "align_content": null,
            "align_items": null,
            "align_self": null,
            "border": null,
            "bottom": null,
            "display": null,
            "flex": null,
            "flex_flow": null,
            "grid_area": null,
            "grid_auto_columns": null,
            "grid_auto_flow": null,
            "grid_auto_rows": null,
            "grid_column": null,
            "grid_gap": null,
            "grid_row": null,
            "grid_template_areas": null,
            "grid_template_columns": null,
            "grid_template_rows": null,
            "height": null,
            "justify_content": null,
            "justify_items": null,
            "left": null,
            "margin": null,
            "max_height": null,
            "max_width": null,
            "min_height": null,
            "min_width": null,
            "object_fit": null,
            "object_position": null,
            "order": null,
            "overflow": null,
            "overflow_x": null,
            "overflow_y": null,
            "padding": null,
            "right": null,
            "top": null,
            "visibility": null,
            "width": null
          }
        },
        "385e8f0bfd094c8ba994cb05f1aa4786": {
          "model_module": "@jupyter-widgets/controls",
          "model_name": "ProgressStyleModel",
          "model_module_version": "1.5.0",
          "state": {
            "_model_module": "@jupyter-widgets/controls",
            "_model_module_version": "1.5.0",
            "_model_name": "ProgressStyleModel",
            "_view_count": null,
            "_view_module": "@jupyter-widgets/base",
            "_view_module_version": "1.2.0",
            "_view_name": "StyleView",
            "bar_color": null,
            "description_width": ""
          }
        },
        "a7dce47fb5b54982ab137e7a1fb1142e": {
          "model_module": "@jupyter-widgets/base",
          "model_name": "LayoutModel",
          "model_module_version": "1.2.0",
          "state": {
            "_model_module": "@jupyter-widgets/base",
            "_model_module_version": "1.2.0",
            "_model_name": "LayoutModel",
            "_view_count": null,
            "_view_module": "@jupyter-widgets/base",
            "_view_module_version": "1.2.0",
            "_view_name": "LayoutView",
            "align_content": null,
            "align_items": null,
            "align_self": null,
            "border": null,
            "bottom": null,
            "display": null,
            "flex": null,
            "flex_flow": null,
            "grid_area": null,
            "grid_auto_columns": null,
            "grid_auto_flow": null,
            "grid_auto_rows": null,
            "grid_column": null,
            "grid_gap": null,
            "grid_row": null,
            "grid_template_areas": null,
            "grid_template_columns": null,
            "grid_template_rows": null,
            "height": null,
            "justify_content": null,
            "justify_items": null,
            "left": null,
            "margin": null,
            "max_height": null,
            "max_width": null,
            "min_height": null,
            "min_width": null,
            "object_fit": null,
            "object_position": null,
            "order": null,
            "overflow": null,
            "overflow_x": null,
            "overflow_y": null,
            "padding": null,
            "right": null,
            "top": null,
            "visibility": null,
            "width": null
          }
        },
        "e74bc3d2e9ef4cdfa4f94752846b094a": {
          "model_module": "@jupyter-widgets/controls",
          "model_name": "DescriptionStyleModel",
          "model_module_version": "1.5.0",
          "state": {
            "_model_module": "@jupyter-widgets/controls",
            "_model_module_version": "1.5.0",
            "_model_name": "DescriptionStyleModel",
            "_view_count": null,
            "_view_module": "@jupyter-widgets/base",
            "_view_module_version": "1.2.0",
            "_view_name": "StyleView",
            "description_width": ""
          }
        },
        "b1b9d3e433b14fc09225b2aad01fff2a": {
          "model_module": "@jupyter-widgets/controls",
          "model_name": "HBoxModel",
          "model_module_version": "1.5.0",
          "state": {
            "_dom_classes": [],
            "_model_module": "@jupyter-widgets/controls",
            "_model_module_version": "1.5.0",
            "_model_name": "HBoxModel",
            "_view_count": null,
            "_view_module": "@jupyter-widgets/controls",
            "_view_module_version": "1.5.0",
            "_view_name": "HBoxView",
            "box_style": "",
            "children": [
              "IPY_MODEL_de9fbcdfc8b54cd38aa816f62b1f7cf3",
              "IPY_MODEL_0181d96099544011b9baa24de27771b6",
              "IPY_MODEL_bd0a555e23f945df9e28c03ceccd1193"
            ],
            "layout": "IPY_MODEL_71870315b0534e1888159177f68e5ece"
          }
        },
        "de9fbcdfc8b54cd38aa816f62b1f7cf3": {
          "model_module": "@jupyter-widgets/controls",
          "model_name": "HTMLModel",
          "model_module_version": "1.5.0",
          "state": {
            "_dom_classes": [],
            "_model_module": "@jupyter-widgets/controls",
            "_model_module_version": "1.5.0",
            "_model_name": "HTMLModel",
            "_view_count": null,
            "_view_module": "@jupyter-widgets/controls",
            "_view_module_version": "1.5.0",
            "_view_name": "HTMLView",
            "description": "",
            "description_tooltip": null,
            "layout": "IPY_MODEL_170ab830a4434d7f98df815078394747",
            "placeholder": "​",
            "style": "IPY_MODEL_8acbf3145df84720948b50c51a99d3cf",
            "value": "100%"
          }
        },
        "0181d96099544011b9baa24de27771b6": {
          "model_module": "@jupyter-widgets/controls",
          "model_name": "FloatProgressModel",
          "model_module_version": "1.5.0",
          "state": {
            "_dom_classes": [],
            "_model_module": "@jupyter-widgets/controls",
            "_model_module_version": "1.5.0",
            "_model_name": "FloatProgressModel",
            "_view_count": null,
            "_view_module": "@jupyter-widgets/controls",
            "_view_module_version": "1.5.0",
            "_view_name": "ProgressView",
            "bar_style": "success",
            "description": "",
            "description_tooltip": null,
            "layout": "IPY_MODEL_ee0d94e9ed154be88a3d47a1682c1775",
            "max": 4542,
            "min": 0,
            "orientation": "horizontal",
            "style": "IPY_MODEL_f46a58c0e84f421dbfffe7beb07688d9",
            "value": 4542
          }
        },
        "bd0a555e23f945df9e28c03ceccd1193": {
          "model_module": "@jupyter-widgets/controls",
          "model_name": "HTMLModel",
          "model_module_version": "1.5.0",
          "state": {
            "_dom_classes": [],
            "_model_module": "@jupyter-widgets/controls",
            "_model_module_version": "1.5.0",
            "_model_name": "HTMLModel",
            "_view_count": null,
            "_view_module": "@jupyter-widgets/controls",
            "_view_module_version": "1.5.0",
            "_view_name": "HTMLView",
            "description": "",
            "description_tooltip": null,
            "layout": "IPY_MODEL_ef407de1ca674325922cefb81f065d33",
            "placeholder": "​",
            "style": "IPY_MODEL_b9ef7d13400a45f7afa9d46d60dbb3b8",
            "value": " 4542/4542 [00:00&lt;00:00, 93183.96it/s]"
          }
        },
        "71870315b0534e1888159177f68e5ece": {
          "model_module": "@jupyter-widgets/base",
          "model_name": "LayoutModel",
          "model_module_version": "1.2.0",
          "state": {
            "_model_module": "@jupyter-widgets/base",
            "_model_module_version": "1.2.0",
            "_model_name": "LayoutModel",
            "_view_count": null,
            "_view_module": "@jupyter-widgets/base",
            "_view_module_version": "1.2.0",
            "_view_name": "LayoutView",
            "align_content": null,
            "align_items": null,
            "align_self": null,
            "border": null,
            "bottom": null,
            "display": null,
            "flex": null,
            "flex_flow": null,
            "grid_area": null,
            "grid_auto_columns": null,
            "grid_auto_flow": null,
            "grid_auto_rows": null,
            "grid_column": null,
            "grid_gap": null,
            "grid_row": null,
            "grid_template_areas": null,
            "grid_template_columns": null,
            "grid_template_rows": null,
            "height": null,
            "justify_content": null,
            "justify_items": null,
            "left": null,
            "margin": null,
            "max_height": null,
            "max_width": null,
            "min_height": null,
            "min_width": null,
            "object_fit": null,
            "object_position": null,
            "order": null,
            "overflow": null,
            "overflow_x": null,
            "overflow_y": null,
            "padding": null,
            "right": null,
            "top": null,
            "visibility": null,
            "width": null
          }
        },
        "170ab830a4434d7f98df815078394747": {
          "model_module": "@jupyter-widgets/base",
          "model_name": "LayoutModel",
          "model_module_version": "1.2.0",
          "state": {
            "_model_module": "@jupyter-widgets/base",
            "_model_module_version": "1.2.0",
            "_model_name": "LayoutModel",
            "_view_count": null,
            "_view_module": "@jupyter-widgets/base",
            "_view_module_version": "1.2.0",
            "_view_name": "LayoutView",
            "align_content": null,
            "align_items": null,
            "align_self": null,
            "border": null,
            "bottom": null,
            "display": null,
            "flex": null,
            "flex_flow": null,
            "grid_area": null,
            "grid_auto_columns": null,
            "grid_auto_flow": null,
            "grid_auto_rows": null,
            "grid_column": null,
            "grid_gap": null,
            "grid_row": null,
            "grid_template_areas": null,
            "grid_template_columns": null,
            "grid_template_rows": null,
            "height": null,
            "justify_content": null,
            "justify_items": null,
            "left": null,
            "margin": null,
            "max_height": null,
            "max_width": null,
            "min_height": null,
            "min_width": null,
            "object_fit": null,
            "object_position": null,
            "order": null,
            "overflow": null,
            "overflow_x": null,
            "overflow_y": null,
            "padding": null,
            "right": null,
            "top": null,
            "visibility": null,
            "width": null
          }
        },
        "8acbf3145df84720948b50c51a99d3cf": {
          "model_module": "@jupyter-widgets/controls",
          "model_name": "DescriptionStyleModel",
          "model_module_version": "1.5.0",
          "state": {
            "_model_module": "@jupyter-widgets/controls",
            "_model_module_version": "1.5.0",
            "_model_name": "DescriptionStyleModel",
            "_view_count": null,
            "_view_module": "@jupyter-widgets/base",
            "_view_module_version": "1.2.0",
            "_view_name": "StyleView",
            "description_width": ""
          }
        },
        "ee0d94e9ed154be88a3d47a1682c1775": {
          "model_module": "@jupyter-widgets/base",
          "model_name": "LayoutModel",
          "model_module_version": "1.2.0",
          "state": {
            "_model_module": "@jupyter-widgets/base",
            "_model_module_version": "1.2.0",
            "_model_name": "LayoutModel",
            "_view_count": null,
            "_view_module": "@jupyter-widgets/base",
            "_view_module_version": "1.2.0",
            "_view_name": "LayoutView",
            "align_content": null,
            "align_items": null,
            "align_self": null,
            "border": null,
            "bottom": null,
            "display": null,
            "flex": null,
            "flex_flow": null,
            "grid_area": null,
            "grid_auto_columns": null,
            "grid_auto_flow": null,
            "grid_auto_rows": null,
            "grid_column": null,
            "grid_gap": null,
            "grid_row": null,
            "grid_template_areas": null,
            "grid_template_columns": null,
            "grid_template_rows": null,
            "height": null,
            "justify_content": null,
            "justify_items": null,
            "left": null,
            "margin": null,
            "max_height": null,
            "max_width": null,
            "min_height": null,
            "min_width": null,
            "object_fit": null,
            "object_position": null,
            "order": null,
            "overflow": null,
            "overflow_x": null,
            "overflow_y": null,
            "padding": null,
            "right": null,
            "top": null,
            "visibility": null,
            "width": null
          }
        },
        "f46a58c0e84f421dbfffe7beb07688d9": {
          "model_module": "@jupyter-widgets/controls",
          "model_name": "ProgressStyleModel",
          "model_module_version": "1.5.0",
          "state": {
            "_model_module": "@jupyter-widgets/controls",
            "_model_module_version": "1.5.0",
            "_model_name": "ProgressStyleModel",
            "_view_count": null,
            "_view_module": "@jupyter-widgets/base",
            "_view_module_version": "1.2.0",
            "_view_name": "StyleView",
            "bar_color": null,
            "description_width": ""
          }
        },
        "ef407de1ca674325922cefb81f065d33": {
          "model_module": "@jupyter-widgets/base",
          "model_name": "LayoutModel",
          "model_module_version": "1.2.0",
          "state": {
            "_model_module": "@jupyter-widgets/base",
            "_model_module_version": "1.2.0",
            "_model_name": "LayoutModel",
            "_view_count": null,
            "_view_module": "@jupyter-widgets/base",
            "_view_module_version": "1.2.0",
            "_view_name": "LayoutView",
            "align_content": null,
            "align_items": null,
            "align_self": null,
            "border": null,
            "bottom": null,
            "display": null,
            "flex": null,
            "flex_flow": null,
            "grid_area": null,
            "grid_auto_columns": null,
            "grid_auto_flow": null,
            "grid_auto_rows": null,
            "grid_column": null,
            "grid_gap": null,
            "grid_row": null,
            "grid_template_areas": null,
            "grid_template_columns": null,
            "grid_template_rows": null,
            "height": null,
            "justify_content": null,
            "justify_items": null,
            "left": null,
            "margin": null,
            "max_height": null,
            "max_width": null,
            "min_height": null,
            "min_width": null,
            "object_fit": null,
            "object_position": null,
            "order": null,
            "overflow": null,
            "overflow_x": null,
            "overflow_y": null,
            "padding": null,
            "right": null,
            "top": null,
            "visibility": null,
            "width": null
          }
        },
        "b9ef7d13400a45f7afa9d46d60dbb3b8": {
          "model_module": "@jupyter-widgets/controls",
          "model_name": "DescriptionStyleModel",
          "model_module_version": "1.5.0",
          "state": {
            "_model_module": "@jupyter-widgets/controls",
            "_model_module_version": "1.5.0",
            "_model_name": "DescriptionStyleModel",
            "_view_count": null,
            "_view_module": "@jupyter-widgets/base",
            "_view_module_version": "1.2.0",
            "_view_name": "StyleView",
            "description_width": ""
          }
        },
        "99c5449e66824b6384c14a9dd639d3b2": {
          "model_module": "@jupyter-widgets/controls",
          "model_name": "HBoxModel",
          "model_module_version": "1.5.0",
          "state": {
            "_dom_classes": [],
            "_model_module": "@jupyter-widgets/controls",
            "_model_module_version": "1.5.0",
            "_model_name": "HBoxModel",
            "_view_count": null,
            "_view_module": "@jupyter-widgets/controls",
            "_view_module_version": "1.5.0",
            "_view_name": "HBoxView",
            "box_style": "",
            "children": [
              "IPY_MODEL_b0c4984f2f854890be55b149745898bc",
              "IPY_MODEL_ee137ca03f1f4113809cfdff1249d8fa",
              "IPY_MODEL_c43e810aeebc4aaa96a02a7a2433e85d"
            ],
            "layout": "IPY_MODEL_404163d0df714fee8aabdf716a0ae675"
          }
        },
        "b0c4984f2f854890be55b149745898bc": {
          "model_module": "@jupyter-widgets/controls",
          "model_name": "HTMLModel",
          "model_module_version": "1.5.0",
          "state": {
            "_dom_classes": [],
            "_model_module": "@jupyter-widgets/controls",
            "_model_module_version": "1.5.0",
            "_model_name": "HTMLModel",
            "_view_count": null,
            "_view_module": "@jupyter-widgets/controls",
            "_view_module_version": "1.5.0",
            "_view_name": "HTMLView",
            "description": "",
            "description_tooltip": null,
            "layout": "IPY_MODEL_8cd8551ba51d48dcb0a11f01dcf2036f",
            "placeholder": "​",
            "style": "IPY_MODEL_e84c1dc58173488ca4f46a39772a3484",
            "value": "100%"
          }
        },
        "ee137ca03f1f4113809cfdff1249d8fa": {
          "model_module": "@jupyter-widgets/controls",
          "model_name": "FloatProgressModel",
          "model_module_version": "1.5.0",
          "state": {
            "_dom_classes": [],
            "_model_module": "@jupyter-widgets/controls",
            "_model_module_version": "1.5.0",
            "_model_name": "FloatProgressModel",
            "_view_count": null,
            "_view_module": "@jupyter-widgets/controls",
            "_view_module_version": "1.5.0",
            "_view_name": "ProgressView",
            "bar_style": "success",
            "description": "",
            "description_tooltip": null,
            "layout": "IPY_MODEL_c5333913e2134f55ad447b4158fa9f63",
            "max": 100,
            "min": 0,
            "orientation": "horizontal",
            "style": "IPY_MODEL_05a998bf3bbc4097a25d884b28355441",
            "value": 100
          }
        },
        "c43e810aeebc4aaa96a02a7a2433e85d": {
          "model_module": "@jupyter-widgets/controls",
          "model_name": "HTMLModel",
          "model_module_version": "1.5.0",
          "state": {
            "_dom_classes": [],
            "_model_module": "@jupyter-widgets/controls",
            "_model_module_version": "1.5.0",
            "_model_name": "HTMLModel",
            "_view_count": null,
            "_view_module": "@jupyter-widgets/controls",
            "_view_module_version": "1.5.0",
            "_view_name": "HTMLView",
            "description": "",
            "description_tooltip": null,
            "layout": "IPY_MODEL_d79b6d6eb4114a2698d3d6c9eac644ae",
            "placeholder": "​",
            "style": "IPY_MODEL_30beaeb95b0c4221a4d02ef741ca584c",
            "value": " 100/100 [00:00&lt;00:00, 469.69it/s]"
          }
        },
        "404163d0df714fee8aabdf716a0ae675": {
          "model_module": "@jupyter-widgets/base",
          "model_name": "LayoutModel",
          "model_module_version": "1.2.0",
          "state": {
            "_model_module": "@jupyter-widgets/base",
            "_model_module_version": "1.2.0",
            "_model_name": "LayoutModel",
            "_view_count": null,
            "_view_module": "@jupyter-widgets/base",
            "_view_module_version": "1.2.0",
            "_view_name": "LayoutView",
            "align_content": null,
            "align_items": null,
            "align_self": null,
            "border": null,
            "bottom": null,
            "display": null,
            "flex": null,
            "flex_flow": null,
            "grid_area": null,
            "grid_auto_columns": null,
            "grid_auto_flow": null,
            "grid_auto_rows": null,
            "grid_column": null,
            "grid_gap": null,
            "grid_row": null,
            "grid_template_areas": null,
            "grid_template_columns": null,
            "grid_template_rows": null,
            "height": null,
            "justify_content": null,
            "justify_items": null,
            "left": null,
            "margin": null,
            "max_height": null,
            "max_width": null,
            "min_height": null,
            "min_width": null,
            "object_fit": null,
            "object_position": null,
            "order": null,
            "overflow": null,
            "overflow_x": null,
            "overflow_y": null,
            "padding": null,
            "right": null,
            "top": null,
            "visibility": null,
            "width": null
          }
        },
        "8cd8551ba51d48dcb0a11f01dcf2036f": {
          "model_module": "@jupyter-widgets/base",
          "model_name": "LayoutModel",
          "model_module_version": "1.2.0",
          "state": {
            "_model_module": "@jupyter-widgets/base",
            "_model_module_version": "1.2.0",
            "_model_name": "LayoutModel",
            "_view_count": null,
            "_view_module": "@jupyter-widgets/base",
            "_view_module_version": "1.2.0",
            "_view_name": "LayoutView",
            "align_content": null,
            "align_items": null,
            "align_self": null,
            "border": null,
            "bottom": null,
            "display": null,
            "flex": null,
            "flex_flow": null,
            "grid_area": null,
            "grid_auto_columns": null,
            "grid_auto_flow": null,
            "grid_auto_rows": null,
            "grid_column": null,
            "grid_gap": null,
            "grid_row": null,
            "grid_template_areas": null,
            "grid_template_columns": null,
            "grid_template_rows": null,
            "height": null,
            "justify_content": null,
            "justify_items": null,
            "left": null,
            "margin": null,
            "max_height": null,
            "max_width": null,
            "min_height": null,
            "min_width": null,
            "object_fit": null,
            "object_position": null,
            "order": null,
            "overflow": null,
            "overflow_x": null,
            "overflow_y": null,
            "padding": null,
            "right": null,
            "top": null,
            "visibility": null,
            "width": null
          }
        },
        "e84c1dc58173488ca4f46a39772a3484": {
          "model_module": "@jupyter-widgets/controls",
          "model_name": "DescriptionStyleModel",
          "model_module_version": "1.5.0",
          "state": {
            "_model_module": "@jupyter-widgets/controls",
            "_model_module_version": "1.5.0",
            "_model_name": "DescriptionStyleModel",
            "_view_count": null,
            "_view_module": "@jupyter-widgets/base",
            "_view_module_version": "1.2.0",
            "_view_name": "StyleView",
            "description_width": ""
          }
        },
        "c5333913e2134f55ad447b4158fa9f63": {
          "model_module": "@jupyter-widgets/base",
          "model_name": "LayoutModel",
          "model_module_version": "1.2.0",
          "state": {
            "_model_module": "@jupyter-widgets/base",
            "_model_module_version": "1.2.0",
            "_model_name": "LayoutModel",
            "_view_count": null,
            "_view_module": "@jupyter-widgets/base",
            "_view_module_version": "1.2.0",
            "_view_name": "LayoutView",
            "align_content": null,
            "align_items": null,
            "align_self": null,
            "border": null,
            "bottom": null,
            "display": null,
            "flex": null,
            "flex_flow": null,
            "grid_area": null,
            "grid_auto_columns": null,
            "grid_auto_flow": null,
            "grid_auto_rows": null,
            "grid_column": null,
            "grid_gap": null,
            "grid_row": null,
            "grid_template_areas": null,
            "grid_template_columns": null,
            "grid_template_rows": null,
            "height": null,
            "justify_content": null,
            "justify_items": null,
            "left": null,
            "margin": null,
            "max_height": null,
            "max_width": null,
            "min_height": null,
            "min_width": null,
            "object_fit": null,
            "object_position": null,
            "order": null,
            "overflow": null,
            "overflow_x": null,
            "overflow_y": null,
            "padding": null,
            "right": null,
            "top": null,
            "visibility": null,
            "width": null
          }
        },
        "05a998bf3bbc4097a25d884b28355441": {
          "model_module": "@jupyter-widgets/controls",
          "model_name": "ProgressStyleModel",
          "model_module_version": "1.5.0",
          "state": {
            "_model_module": "@jupyter-widgets/controls",
            "_model_module_version": "1.5.0",
            "_model_name": "ProgressStyleModel",
            "_view_count": null,
            "_view_module": "@jupyter-widgets/base",
            "_view_module_version": "1.2.0",
            "_view_name": "StyleView",
            "bar_color": null,
            "description_width": ""
          }
        },
        "d79b6d6eb4114a2698d3d6c9eac644ae": {
          "model_module": "@jupyter-widgets/base",
          "model_name": "LayoutModel",
          "model_module_version": "1.2.0",
          "state": {
            "_model_module": "@jupyter-widgets/base",
            "_model_module_version": "1.2.0",
            "_model_name": "LayoutModel",
            "_view_count": null,
            "_view_module": "@jupyter-widgets/base",
            "_view_module_version": "1.2.0",
            "_view_name": "LayoutView",
            "align_content": null,
            "align_items": null,
            "align_self": null,
            "border": null,
            "bottom": null,
            "display": null,
            "flex": null,
            "flex_flow": null,
            "grid_area": null,
            "grid_auto_columns": null,
            "grid_auto_flow": null,
            "grid_auto_rows": null,
            "grid_column": null,
            "grid_gap": null,
            "grid_row": null,
            "grid_template_areas": null,
            "grid_template_columns": null,
            "grid_template_rows": null,
            "height": null,
            "justify_content": null,
            "justify_items": null,
            "left": null,
            "margin": null,
            "max_height": null,
            "max_width": null,
            "min_height": null,
            "min_width": null,
            "object_fit": null,
            "object_position": null,
            "order": null,
            "overflow": null,
            "overflow_x": null,
            "overflow_y": null,
            "padding": null,
            "right": null,
            "top": null,
            "visibility": null,
            "width": null
          }
        },
        "30beaeb95b0c4221a4d02ef741ca584c": {
          "model_module": "@jupyter-widgets/controls",
          "model_name": "DescriptionStyleModel",
          "model_module_version": "1.5.0",
          "state": {
            "_model_module": "@jupyter-widgets/controls",
            "_model_module_version": "1.5.0",
            "_model_name": "DescriptionStyleModel",
            "_view_count": null,
            "_view_module": "@jupyter-widgets/base",
            "_view_module_version": "1.2.0",
            "_view_name": "StyleView",
            "description_width": ""
          }
        },
        "99e967888a92403ea66b53e700c8212a": {
          "model_module": "@jupyter-widgets/controls",
          "model_name": "HBoxModel",
          "model_module_version": "1.5.0",
          "state": {
            "_dom_classes": [],
            "_model_module": "@jupyter-widgets/controls",
            "_model_module_version": "1.5.0",
            "_model_name": "HBoxModel",
            "_view_count": null,
            "_view_module": "@jupyter-widgets/controls",
            "_view_module_version": "1.5.0",
            "_view_name": "HBoxView",
            "box_style": "",
            "children": [
              "IPY_MODEL_b210f5365da845cb976e2b0f88ec47c3",
              "IPY_MODEL_b7df685a0eeb45ceaf76f6473a42f3c9",
              "IPY_MODEL_8a59e6353e5d43bb8651b955c3538e13"
            ],
            "layout": "IPY_MODEL_ec62c0e15f7145ff996418ab29aec8d0"
          }
        },
        "b210f5365da845cb976e2b0f88ec47c3": {
          "model_module": "@jupyter-widgets/controls",
          "model_name": "HTMLModel",
          "model_module_version": "1.5.0",
          "state": {
            "_dom_classes": [],
            "_model_module": "@jupyter-widgets/controls",
            "_model_module_version": "1.5.0",
            "_model_name": "HTMLModel",
            "_view_count": null,
            "_view_module": "@jupyter-widgets/controls",
            "_view_module_version": "1.5.0",
            "_view_name": "HTMLView",
            "description": "",
            "description_tooltip": null,
            "layout": "IPY_MODEL_f32358f938ef4592b6f82f63250e74e1",
            "placeholder": "​",
            "style": "IPY_MODEL_6ce5fb43826b4d5fb328c569d64759b0",
            "value": "100%"
          }
        },
        "b7df685a0eeb45ceaf76f6473a42f3c9": {
          "model_module": "@jupyter-widgets/controls",
          "model_name": "FloatProgressModel",
          "model_module_version": "1.5.0",
          "state": {
            "_dom_classes": [],
            "_model_module": "@jupyter-widgets/controls",
            "_model_module_version": "1.5.0",
            "_model_name": "FloatProgressModel",
            "_view_count": null,
            "_view_module": "@jupyter-widgets/controls",
            "_view_module_version": "1.5.0",
            "_view_name": "ProgressView",
            "bar_style": "success",
            "description": "",
            "description_tooltip": null,
            "layout": "IPY_MODEL_8f7880ff6e9a4a6087a1404d1812aa05",
            "max": 100,
            "min": 0,
            "orientation": "horizontal",
            "style": "IPY_MODEL_c71a65e11e16453e899078b1029f638c",
            "value": 100
          }
        },
        "8a59e6353e5d43bb8651b955c3538e13": {
          "model_module": "@jupyter-widgets/controls",
          "model_name": "HTMLModel",
          "model_module_version": "1.5.0",
          "state": {
            "_dom_classes": [],
            "_model_module": "@jupyter-widgets/controls",
            "_model_module_version": "1.5.0",
            "_model_name": "HTMLModel",
            "_view_count": null,
            "_view_module": "@jupyter-widgets/controls",
            "_view_module_version": "1.5.0",
            "_view_name": "HTMLView",
            "description": "",
            "description_tooltip": null,
            "layout": "IPY_MODEL_63d7321ae78844c1aa9e647c75f8d552",
            "placeholder": "​",
            "style": "IPY_MODEL_1154be2197ba498da365bc1959c463f2",
            "value": " 100/100 [00:02&lt;00:00, 32.81it/s]"
          }
        },
        "ec62c0e15f7145ff996418ab29aec8d0": {
          "model_module": "@jupyter-widgets/base",
          "model_name": "LayoutModel",
          "model_module_version": "1.2.0",
          "state": {
            "_model_module": "@jupyter-widgets/base",
            "_model_module_version": "1.2.0",
            "_model_name": "LayoutModel",
            "_view_count": null,
            "_view_module": "@jupyter-widgets/base",
            "_view_module_version": "1.2.0",
            "_view_name": "LayoutView",
            "align_content": null,
            "align_items": null,
            "align_self": null,
            "border": null,
            "bottom": null,
            "display": null,
            "flex": null,
            "flex_flow": null,
            "grid_area": null,
            "grid_auto_columns": null,
            "grid_auto_flow": null,
            "grid_auto_rows": null,
            "grid_column": null,
            "grid_gap": null,
            "grid_row": null,
            "grid_template_areas": null,
            "grid_template_columns": null,
            "grid_template_rows": null,
            "height": null,
            "justify_content": null,
            "justify_items": null,
            "left": null,
            "margin": null,
            "max_height": null,
            "max_width": null,
            "min_height": null,
            "min_width": null,
            "object_fit": null,
            "object_position": null,
            "order": null,
            "overflow": null,
            "overflow_x": null,
            "overflow_y": null,
            "padding": null,
            "right": null,
            "top": null,
            "visibility": null,
            "width": null
          }
        },
        "f32358f938ef4592b6f82f63250e74e1": {
          "model_module": "@jupyter-widgets/base",
          "model_name": "LayoutModel",
          "model_module_version": "1.2.0",
          "state": {
            "_model_module": "@jupyter-widgets/base",
            "_model_module_version": "1.2.0",
            "_model_name": "LayoutModel",
            "_view_count": null,
            "_view_module": "@jupyter-widgets/base",
            "_view_module_version": "1.2.0",
            "_view_name": "LayoutView",
            "align_content": null,
            "align_items": null,
            "align_self": null,
            "border": null,
            "bottom": null,
            "display": null,
            "flex": null,
            "flex_flow": null,
            "grid_area": null,
            "grid_auto_columns": null,
            "grid_auto_flow": null,
            "grid_auto_rows": null,
            "grid_column": null,
            "grid_gap": null,
            "grid_row": null,
            "grid_template_areas": null,
            "grid_template_columns": null,
            "grid_template_rows": null,
            "height": null,
            "justify_content": null,
            "justify_items": null,
            "left": null,
            "margin": null,
            "max_height": null,
            "max_width": null,
            "min_height": null,
            "min_width": null,
            "object_fit": null,
            "object_position": null,
            "order": null,
            "overflow": null,
            "overflow_x": null,
            "overflow_y": null,
            "padding": null,
            "right": null,
            "top": null,
            "visibility": null,
            "width": null
          }
        },
        "6ce5fb43826b4d5fb328c569d64759b0": {
          "model_module": "@jupyter-widgets/controls",
          "model_name": "DescriptionStyleModel",
          "model_module_version": "1.5.0",
          "state": {
            "_model_module": "@jupyter-widgets/controls",
            "_model_module_version": "1.5.0",
            "_model_name": "DescriptionStyleModel",
            "_view_count": null,
            "_view_module": "@jupyter-widgets/base",
            "_view_module_version": "1.2.0",
            "_view_name": "StyleView",
            "description_width": ""
          }
        },
        "8f7880ff6e9a4a6087a1404d1812aa05": {
          "model_module": "@jupyter-widgets/base",
          "model_name": "LayoutModel",
          "model_module_version": "1.2.0",
          "state": {
            "_model_module": "@jupyter-widgets/base",
            "_model_module_version": "1.2.0",
            "_model_name": "LayoutModel",
            "_view_count": null,
            "_view_module": "@jupyter-widgets/base",
            "_view_module_version": "1.2.0",
            "_view_name": "LayoutView",
            "align_content": null,
            "align_items": null,
            "align_self": null,
            "border": null,
            "bottom": null,
            "display": null,
            "flex": null,
            "flex_flow": null,
            "grid_area": null,
            "grid_auto_columns": null,
            "grid_auto_flow": null,
            "grid_auto_rows": null,
            "grid_column": null,
            "grid_gap": null,
            "grid_row": null,
            "grid_template_areas": null,
            "grid_template_columns": null,
            "grid_template_rows": null,
            "height": null,
            "justify_content": null,
            "justify_items": null,
            "left": null,
            "margin": null,
            "max_height": null,
            "max_width": null,
            "min_height": null,
            "min_width": null,
            "object_fit": null,
            "object_position": null,
            "order": null,
            "overflow": null,
            "overflow_x": null,
            "overflow_y": null,
            "padding": null,
            "right": null,
            "top": null,
            "visibility": null,
            "width": null
          }
        },
        "c71a65e11e16453e899078b1029f638c": {
          "model_module": "@jupyter-widgets/controls",
          "model_name": "ProgressStyleModel",
          "model_module_version": "1.5.0",
          "state": {
            "_model_module": "@jupyter-widgets/controls",
            "_model_module_version": "1.5.0",
            "_model_name": "ProgressStyleModel",
            "_view_count": null,
            "_view_module": "@jupyter-widgets/base",
            "_view_module_version": "1.2.0",
            "_view_name": "StyleView",
            "bar_color": null,
            "description_width": ""
          }
        },
        "63d7321ae78844c1aa9e647c75f8d552": {
          "model_module": "@jupyter-widgets/base",
          "model_name": "LayoutModel",
          "model_module_version": "1.2.0",
          "state": {
            "_model_module": "@jupyter-widgets/base",
            "_model_module_version": "1.2.0",
            "_model_name": "LayoutModel",
            "_view_count": null,
            "_view_module": "@jupyter-widgets/base",
            "_view_module_version": "1.2.0",
            "_view_name": "LayoutView",
            "align_content": null,
            "align_items": null,
            "align_self": null,
            "border": null,
            "bottom": null,
            "display": null,
            "flex": null,
            "flex_flow": null,
            "grid_area": null,
            "grid_auto_columns": null,
            "grid_auto_flow": null,
            "grid_auto_rows": null,
            "grid_column": null,
            "grid_gap": null,
            "grid_row": null,
            "grid_template_areas": null,
            "grid_template_columns": null,
            "grid_template_rows": null,
            "height": null,
            "justify_content": null,
            "justify_items": null,
            "left": null,
            "margin": null,
            "max_height": null,
            "max_width": null,
            "min_height": null,
            "min_width": null,
            "object_fit": null,
            "object_position": null,
            "order": null,
            "overflow": null,
            "overflow_x": null,
            "overflow_y": null,
            "padding": null,
            "right": null,
            "top": null,
            "visibility": null,
            "width": null
          }
        },
        "1154be2197ba498da365bc1959c463f2": {
          "model_module": "@jupyter-widgets/controls",
          "model_name": "DescriptionStyleModel",
          "model_module_version": "1.5.0",
          "state": {
            "_model_module": "@jupyter-widgets/controls",
            "_model_module_version": "1.5.0",
            "_model_name": "DescriptionStyleModel",
            "_view_count": null,
            "_view_module": "@jupyter-widgets/base",
            "_view_module_version": "1.2.0",
            "_view_name": "StyleView",
            "description_width": ""
          }
        }
      }
    }
  },
  "cells": [
    {
      "cell_type": "markdown",
      "metadata": {
        "id": "view-in-github",
        "colab_type": "text"
      },
      "source": [
        "<a href=\"https://colab.research.google.com/github/thehumit/cpp/blob/master/hw03_batchnorm_dropout.ipynb\" target=\"_parent\"><img src=\"https://colab.research.google.com/assets/colab-badge.svg\" alt=\"Open In Colab\"/></a>"
      ]
    },
    {
      "cell_type": "markdown",
      "metadata": {
        "id": "qvW8-J6we6By"
      },
      "source": [
        "# Обучение нейросетей — оптимизация и регуляризация\n"
      ]
    },
    {
      "cell_type": "markdown",
      "metadata": {
        "id": "1ecMva_Ge6B0"
      },
      "source": [
        "На это семинаре будет необходимо \n",
        "1. реализовать Dropout-слой и проследить его влияние на обобщающую способность сети \n",
        "2. реализовать BatchNormalization-слой"
      ]
    },
    {
      "cell_type": "markdown",
      "metadata": {
        "id": "wQZ-_wUwe6B0"
      },
      "source": [
        "## Dropout\n",
        "\n",
        "Как всегда будем экспериментировать на датасете MNIST. MNIST является стандартным бенчмарк-датасетом, и его можно подгрузить средствами pytorch."
      ]
    },
    {
      "cell_type": "code",
      "metadata": {
        "id": "v4S5PFg5e6B1"
      },
      "source": [
        "%matplotlib inline\n",
        "import matplotlib.pyplot as plt\n",
        "import numpy as np\n",
        "from IPython.display import clear_output\n",
        "\n",
        "import torch\n",
        "import torch.nn as nn\n",
        "import torch.nn.functional as F\n",
        "import torchvision.datasets as dsets\n",
        "import torchvision.transforms as transforms\n",
        "import torch.optim as optim\n",
        "from torch.utils.data.sampler import SubsetRandomSampler"
      ],
      "execution_count": 1,
      "outputs": []
    },
    {
      "cell_type": "code",
      "source": [
        "def seed_everything(seed: int):\n",
        "    import random, os\n",
        "    import numpy as np\n",
        "    import torch\n",
        "    \n",
        "    torch.use_deterministic_algorithms(True)\n",
        "    \n",
        "    random.seed(seed)\n",
        "    os.environ['PYTHONHASHSEED'] = str(seed)\n",
        "    np.random.seed(seed)\n",
        "    torch.manual_seed(seed)\n",
        "    torch.cuda.manual_seed(seed)\n",
        "    torch.backends.cudnn.deterministic = True\n",
        "    torch.backends.cudnn.benchmark = True"
      ],
      "metadata": {
        "id": "G78D4U8VPlXa"
      },
      "execution_count": 2,
      "outputs": []
    },
    {
      "cell_type": "code",
      "source": [
        "need_run_tests_and_training = 'google.colab' in str(get_ipython())\n",
        "need_run_tests_and_training"
      ],
      "metadata": {
        "id": "RDycPIfrP_f2",
        "outputId": "d505155e-886e-4001-f8e7-c407a1e427ba",
        "colab": {
          "base_uri": "https://localhost:8080/"
        }
      },
      "execution_count": 3,
      "outputs": [
        {
          "output_type": "execute_result",
          "data": {
            "text/plain": [
              "True"
            ]
          },
          "metadata": {},
          "execution_count": 3
        }
      ]
    },
    {
      "cell_type": "code",
      "metadata": {
        "id": "5EuePwt3e6B5",
        "outputId": "3a7d602f-cf53-4333-c67c-71ea1662101f",
        "colab": {
          "base_uri": "https://localhost:8080/",
          "height": 423,
          "referenced_widgets": [
            "a50f4573a8034c1db590b5e860c68662",
            "fe559bb792f14fbda6b2981f0388ae8f",
            "52e683afcefb4b15971a2979e65cfd49",
            "1243d245f7ce4bbd9b3daaf1a74bd2e7",
            "0b1c8892cd2c4efbba07cfa32edefbad",
            "dc5df819d01a4a9ba70f0de6ec362433",
            "af6ae3a7699848719b04958cbf7ca702",
            "975400ac6da0402b87cdc1496955c286",
            "3064a71953e940f68c03b8ea54a766ab",
            "daa901bec71742e48325dcd36afe8a91",
            "279cfbdfc8dd459784efe7a319d9b9d0",
            "b0a00b770e354c0caead34e0d308bc03",
            "e40708558aec42319023fd6502979c15",
            "5551d49510db4d7eb409fa3cbfbccc2b",
            "43312dc4106946d7af01865e16398408",
            "a2a695a6ade845f7b040e41e343efa9f",
            "98a5a6aee0bd4b809740f8781eb9dc51",
            "f606fcec3cbd4b249fcd35dbcf897e47",
            "52ccfed1c0924a9e9243202ed99f7def",
            "b77bf32ca5394cc5ba580004f71aeb20",
            "a392014ec94040febf856c1c3a318250",
            "2966a181cd434757b8b6fccbd65f6d5e",
            "08184f8b40cf4581ae1745107e4470f9",
            "41b9cd979d4c4ef085fc9643b368c00a",
            "8b4c8e32c3de491ebe4afda6d49438af",
            "bc7edfdcded74ebe80e28711dbc24c7b",
            "86bf15d0adfd435d920f4628ba87bc45",
            "2d27debc479840939a4a8ad263321498",
            "fa89c93693f849359af3aeac4a4349eb",
            "4de972ff3cab4362849abfb5e4a6f789",
            "385e8f0bfd094c8ba994cb05f1aa4786",
            "a7dce47fb5b54982ab137e7a1fb1142e",
            "e74bc3d2e9ef4cdfa4f94752846b094a",
            "b1b9d3e433b14fc09225b2aad01fff2a",
            "de9fbcdfc8b54cd38aa816f62b1f7cf3",
            "0181d96099544011b9baa24de27771b6",
            "bd0a555e23f945df9e28c03ceccd1193",
            "71870315b0534e1888159177f68e5ece",
            "170ab830a4434d7f98df815078394747",
            "8acbf3145df84720948b50c51a99d3cf",
            "ee0d94e9ed154be88a3d47a1682c1775",
            "f46a58c0e84f421dbfffe7beb07688d9",
            "ef407de1ca674325922cefb81f065d33",
            "b9ef7d13400a45f7afa9d46d60dbb3b8"
          ]
        }
      },
      "source": [
        "input_size = 784\n",
        "num_classes = 10\n",
        "batch_size = 128\n",
        "\n",
        "train_dataset = dsets.MNIST(root='./MNIST/', \n",
        "                                   train=True, \n",
        "                                   transform=transforms.ToTensor(),\n",
        "                                   download=True)\n",
        "\n",
        "test_dataset = dsets.MNIST(root='./MNIST/', \n",
        "                                  train=False, \n",
        "                                  transform=transforms.ToTensor())\n",
        "\n",
        "train_loader = torch.utils.data.DataLoader(dataset=train_dataset, \n",
        "                                           batch_size=batch_size, \n",
        "                                           shuffle=True)\n",
        "\n",
        "test_loader = torch.utils.data.DataLoader(dataset=test_dataset, \n",
        "                                          batch_size=batch_size, \n",
        "                                          shuffle=False)"
      ],
      "execution_count": 4,
      "outputs": [
        {
          "output_type": "stream",
          "name": "stdout",
          "text": [
            "Downloading http://yann.lecun.com/exdb/mnist/train-images-idx3-ubyte.gz\n",
            "Downloading http://yann.lecun.com/exdb/mnist/train-images-idx3-ubyte.gz to ./MNIST/MNIST/raw/train-images-idx3-ubyte.gz\n"
          ]
        },
        {
          "output_type": "display_data",
          "data": {
            "text/plain": [
              "  0%|          | 0/9912422 [00:00<?, ?it/s]"
            ],
            "application/vnd.jupyter.widget-view+json": {
              "version_major": 2,
              "version_minor": 0,
              "model_id": "a50f4573a8034c1db590b5e860c68662"
            }
          },
          "metadata": {}
        },
        {
          "output_type": "stream",
          "name": "stdout",
          "text": [
            "Extracting ./MNIST/MNIST/raw/train-images-idx3-ubyte.gz to ./MNIST/MNIST/raw\n",
            "\n",
            "Downloading http://yann.lecun.com/exdb/mnist/train-labels-idx1-ubyte.gz\n",
            "Downloading http://yann.lecun.com/exdb/mnist/train-labels-idx1-ubyte.gz to ./MNIST/MNIST/raw/train-labels-idx1-ubyte.gz\n"
          ]
        },
        {
          "output_type": "display_data",
          "data": {
            "text/plain": [
              "  0%|          | 0/28881 [00:00<?, ?it/s]"
            ],
            "application/vnd.jupyter.widget-view+json": {
              "version_major": 2,
              "version_minor": 0,
              "model_id": "b0a00b770e354c0caead34e0d308bc03"
            }
          },
          "metadata": {}
        },
        {
          "output_type": "stream",
          "name": "stdout",
          "text": [
            "Extracting ./MNIST/MNIST/raw/train-labels-idx1-ubyte.gz to ./MNIST/MNIST/raw\n",
            "\n",
            "Downloading http://yann.lecun.com/exdb/mnist/t10k-images-idx3-ubyte.gz\n",
            "Downloading http://yann.lecun.com/exdb/mnist/t10k-images-idx3-ubyte.gz to ./MNIST/MNIST/raw/t10k-images-idx3-ubyte.gz\n"
          ]
        },
        {
          "output_type": "display_data",
          "data": {
            "text/plain": [
              "  0%|          | 0/1648877 [00:00<?, ?it/s]"
            ],
            "application/vnd.jupyter.widget-view+json": {
              "version_major": 2,
              "version_minor": 0,
              "model_id": "08184f8b40cf4581ae1745107e4470f9"
            }
          },
          "metadata": {}
        },
        {
          "output_type": "stream",
          "name": "stdout",
          "text": [
            "Extracting ./MNIST/MNIST/raw/t10k-images-idx3-ubyte.gz to ./MNIST/MNIST/raw\n",
            "\n",
            "Downloading http://yann.lecun.com/exdb/mnist/t10k-labels-idx1-ubyte.gz\n",
            "Downloading http://yann.lecun.com/exdb/mnist/t10k-labels-idx1-ubyte.gz to ./MNIST/MNIST/raw/t10k-labels-idx1-ubyte.gz\n"
          ]
        },
        {
          "output_type": "display_data",
          "data": {
            "text/plain": [
              "  0%|          | 0/4542 [00:00<?, ?it/s]"
            ],
            "application/vnd.jupyter.widget-view+json": {
              "version_major": 2,
              "version_minor": 0,
              "model_id": "b1b9d3e433b14fc09225b2aad01fff2a"
            }
          },
          "metadata": {}
        },
        {
          "output_type": "stream",
          "name": "stdout",
          "text": [
            "Extracting ./MNIST/MNIST/raw/t10k-labels-idx1-ubyte.gz to ./MNIST/MNIST/raw\n",
            "\n"
          ]
        }
      ]
    },
    {
      "cell_type": "markdown",
      "metadata": {
        "id": "nUFeuDtfe6B9"
      },
      "source": [
        "Определим ряд стандартных функций с прошлых семинаров"
      ]
    },
    {
      "cell_type": "code",
      "metadata": {
        "id": "a_rmaGJQe6B9"
      },
      "source": [
        "def train_epoch(model, optimizer, batchsize=32):    \n",
        "    loss_log, acc_log = [], []\n",
        "    model.train()\n",
        "    for batch_num, (x_batch, y_batch) in enumerate(train_loader):\n",
        "        data = x_batch\n",
        "        target = y_batch\n",
        "\n",
        "        optimizer.zero_grad()\n",
        "        output = model(data)\n",
        "        pred = torch.max(output, 1)[1]\n",
        "        acc = torch.eq(pred, y_batch).float().mean()\n",
        "        acc_log.append(acc)\n",
        "        \n",
        "        loss = F.nll_loss(output, target).cpu()\n",
        "        loss.backward()\n",
        "        optimizer.step()\n",
        "        loss = loss.item()\n",
        "        loss_log.append(loss)\n",
        "    return loss_log, acc_log    \n",
        "\n",
        "def test(model):\n",
        "    loss_log, acc_log = [], []\n",
        "    model.eval()\n",
        "    for batch_num, (x_batch, y_batch) in enumerate(test_loader):    \n",
        "        data = x_batch\n",
        "        target = y_batch\n",
        "\n",
        "        output = model(data)\n",
        "        loss = F.nll_loss(output, target).cpu()\n",
        "\n",
        "        pred = torch.max(output, 1)[1]\n",
        "        acc = torch.eq(pred, y_batch).float().mean()\n",
        "        acc_log.append(acc)\n",
        "        \n",
        "        loss = loss.item()\n",
        "        loss_log.append(loss)\n",
        "    return loss_log, acc_log\n",
        "\n",
        "def plot_history(train_history, val_history, title='loss'):\n",
        "    plt.figure()\n",
        "    plt.title('{}'.format(title))\n",
        "    plt.plot(train_history, label='train', zorder=1)\n",
        "    \n",
        "    points = np.array(val_history)\n",
        "    \n",
        "    plt.scatter(points[:, 0], points[:, 1], marker='+', s=180, c='orange', label='val', zorder=2)\n",
        "    plt.xlabel('train steps')\n",
        "    \n",
        "    plt.legend(loc='best')\n",
        "    plt.grid()\n",
        "\n",
        "    plt.show()\n",
        "    \n",
        "def train(model, opt, n_epochs):\n",
        "\n",
        "    if not need_run_tests_and_training:\n",
        "        return\n",
        "\n",
        "    train_log, train_acc_log = [], []\n",
        "    val_log, val_acc_log = [], []\n",
        "\n",
        "\n",
        "    for epoch in range(n_epochs):\n",
        "        print(\"Epoch {0} of {1}\".format(epoch, n_epochs))\n",
        "        train_loss, train_acc = train_epoch(model, opt, batchsize=batch_size)\n",
        "\n",
        "        val_loss, val_acc = test(model)\n",
        "\n",
        "        train_log.extend(train_loss)\n",
        "        train_acc_log.extend(train_acc)\n",
        "\n",
        "        steps = train_dataset.train_labels.shape[0] / batch_size\n",
        "        val_log.append((steps * (epoch + 1), np.mean(val_loss)))\n",
        "        val_acc_log.append((steps * (epoch + 1), np.mean(val_acc)))\n",
        "        \n",
        "        clear_output()\n",
        "        plot_history(train_log, val_log)    \n",
        "        plot_history(train_acc_log, val_acc_log, title='accuracy')   \n",
        "        \n",
        "        print(\"Epoch: {2}, val loss: {0}, val accuracy: {1}\".format(np.mean(val_loss), np.mean(val_acc), epoch))\n"
      ],
      "execution_count": 5,
      "outputs": []
    },
    {
      "cell_type": "markdown",
      "metadata": {
        "id": "MjhiP5h-e6CA"
      },
      "source": [
        "Создайте простейшую однослойную модель - однослойную полносвязную сеть и обучите ее с параметрами оптимизации, заданными ниже."
      ]
    },
    {
      "cell_type": "code",
      "metadata": {
        "id": "TLB2iHNke6CB"
      },
      "source": [
        "   \n",
        "model = nn.Sequential(\n",
        "                    nn.Flatten(1),\n",
        "                    nn.Linear(input_size, num_classes),\n",
        "                    nn.LogSoftmax(dim=-1)\n",
        ")"
      ],
      "execution_count": 6,
      "outputs": []
    },
    {
      "cell_type": "code",
      "metadata": {
        "id": "z8ppSMDae6CE",
        "outputId": "1b39e870-be43-4c17-d667-2e47d94d1a6c",
        "colab": {
          "base_uri": "https://localhost:8080/",
          "height": 590
        }
      },
      "source": [
        "opt = torch.optim.Adam(model.parameters(), lr=0.0005)\n",
        "train(model, opt, 10)"
      ],
      "execution_count": 7,
      "outputs": [
        {
          "output_type": "display_data",
          "data": {
            "text/plain": [
              "<Figure size 432x288 with 1 Axes>"
            ],
            "image/png": "[encoded data removed]"
          },
          "metadata": {
            "needs_background": "light"
          }
        },
        {
          "output_type": "display_data",
          "data": {
            "text/plain": [
              "<Figure size 432x288 with 1 Axes>"
            ],
            "image/png": "[encoded data removed]"
          },
          "metadata": {
            "needs_background": "light"
          }
        },
        {
          "output_type": "stream",
          "name": "stdout",
          "text": [
            "Epoch: 9, val loss: 0.27411718569884574, val accuracy: 0.9247428774833679\n"
          ]
        }
      ]
    },
    {
      "cell_type": "markdown",
      "metadata": {
        "id": "7smJP34Pe6CH"
      },
      "source": [
        "Параметром обученной нейросети является матрица весов, в которой каждому классу соответствует один из 784-мерных столбцов. Визуализируйте обученные векторы для каждого из классов, сделав их двумерными изображениями 28-28. Для визуализации можно воспользоваться кодом для визуализации MNIST-картинок с предыдущих семинаров."
      ]
    },
    {
      "cell_type": "code",
      "source": [
        "model._modules['1'].weight.shape"
      ],
      "metadata": {
        "id": "6tov2FefZHmn",
        "outputId": "b2a676fb-4d14-4687-a14a-0d55f25fa43d",
        "colab": {
          "base_uri": "https://localhost:8080/"
        }
      },
      "execution_count": 8,
      "outputs": [
        {
          "output_type": "execute_result",
          "data": {
            "text/plain": [
              "torch.Size([10, 784])"
            ]
          },
          "metadata": {},
          "execution_count": 8
        }
      ]
    },
    {
      "cell_type": "code",
      "metadata": {
        "id": "WIwBt7cJe6CH",
        "outputId": "dc191197-c398-4d01-b9f6-876b85331adf",
        "colab": {
          "base_uri": "https://localhost:8080/",
          "height": 270
        }
      },
      "source": [
        "weights = model._modules['1'].weight.detach().numpy()\n",
        "plt.figure(figsize=[10, 10])\n",
        "for i in range(10):\n",
        "    plt.subplot(5, 5, i + 1)\n",
        "    plt.title(\"Label: %i\" % i)\n",
        "    \n",
        "    plt.imshow(weights[i].reshape([28, 28]), cmap='gray');"
      ],
      "execution_count": 9,
      "outputs": [
        {
          "output_type": "display_data",
          "data": {
            "text/plain": [
              "<Figure size 720x720 with 10 Axes>"
            ],
            "image/png": "[encoded data removed]"
          },
          "metadata": {
            "needs_background": "light"
          }
        }
      ]
    },
    {
      "cell_type": "markdown",
      "metadata": {
        "id": "TIzsqWU_e6CL"
      },
      "source": [
        "Реализуйте Dropout-слой для полносвязной сети. Помните, что этот слой ведет себя по-разному во время обучения и во время применения. "
      ]
    },
    {
      "cell_type": "code",
      "source": [
        "# эту ячейку в тестах я буду сохранять в отдельный файл, поэтому не нужно\n",
        "# изменять имя класса, убирать импорты (добавлять, в принципе, можно)\n",
        "# добавлять в ячейку какой-то посторонний код, не связанный с реализацией этого класса\n",
        "\n",
        "import torch\n",
        "import torch.nn as nn\n",
        "import torch.nn.functional as F\n",
        "\n",
        "\n",
        "class DropoutLayer(nn.Module): # не надо переименовыввать этот класс\n",
        "    \"\"\"\n",
        "    https://pytorch.org/docs/stable/generated/torch.nn.Dropout.html\n",
        "    \"\"\"\n",
        "    def __init__(self, p=0.5, inplace=False):\n",
        "        super().__init__()\n",
        "        self.p = p\n",
        "        self.inplace = inplace\n",
        "        self.__m_norm = 1 / (1 - p)\n",
        "\n",
        "    def forward(self, input):\n",
        "        # todo\n",
        "        # подсказка: скорее всего, вам понадобится ф-я rand_like https://pytorch.org/docs/stable/generated/torch.rand_like.html\n",
        "        # и masked_fill_ https://pytorch.org/docs/stable/generated/torch.Tensor.masked_fill_.html\n",
        "        input_clone = input.clone()\n",
        "        if self.training:\n",
        "            to_save_ = torch.rand_like(input_clone) < self.p\n",
        "            return input_clone.masked_fill_(to_save_, 0) * self.__m_norm\n",
        "        else:\n",
        "            # todo\n",
        "            return input_clone\n"
      ],
      "metadata": {
        "id": "w3evQPpk4o9q"
      },
      "execution_count": 10,
      "outputs": []
    },
    {
      "cell_type": "code",
      "source": [
        "from tqdm.auto import tqdm\n",
        "\n",
        "def test_dropout_train():\n",
        "\n",
        "    zero_proba = 0.9\n",
        "    do = DropoutLayer(p=zero_proba, inplace=False)\n",
        "\n",
        "    assert do.p == zero_proba, f\"zero_proba is ok\"\n",
        "\n",
        "    do.train()\n",
        "\n",
        "    input_tensor = torch.rand( (7, 3, 28, 28) )\n",
        "    input_tensor_clone = input_tensor.clone()\n",
        "\n",
        "    dropouted_tensor = do(input_tensor)\n",
        "\n",
        "    assert (input_tensor_clone == input_tensor).all(), \"input tensor was not changed\"\n",
        "\n",
        "    zeroed_values = (dropouted_tensor == 0).sum()\n",
        "    # print(\"input_tensor.numel()\", input_tensor.numel())\n",
        "    expected_zeroed_values = input_tensor.numel() * do.p\n",
        "\n",
        "    assert (zeroed_values - expected_zeroed_values).abs() < 200, f\"zeroed_values={zeroed_values} expected_zeroed_values={expected_zeroed_values}\"\n",
        "\n",
        "    input_module = input_tensor.abs().sum()\n",
        "    output_module = dropouted_tensor.abs().sum()\n",
        "    module_diff = (input_module - output_module).abs()\n",
        "    assert module_diff < 1000, f\"input_norm {input_module}, outout_norm {output_module}, diff={module_diff}\"\n",
        "\n",
        "def test_dropout_eval():\n",
        "\n",
        "    with torch.no_grad():\n",
        "\n",
        "        zero_proba = 0.9\n",
        "        do = DropoutLayer(p=zero_proba, inplace=False)\n",
        "\n",
        "        assert do.p == zero_proba, f\"zero_proba is ok\"\n",
        "\n",
        "        do.eval()\n",
        "\n",
        "        input_tensor = torch.rand( (7, 3, 28, 28) )\n",
        "        input_tensor_clone = input_tensor.clone()\n",
        "\n",
        "        dropouted_tensor = do(input_tensor)\n",
        "\n",
        "        assert (input_tensor_clone == input_tensor).all(), \"input tensor was not changed\"\n",
        "        assert (dropouted_tensor == input_tensor_clone).all(), \"output tensor equals to input\"\n",
        "\n",
        "seed_everything(42)\n",
        "\n",
        "if need_run_tests_and_training:\n",
        "    for _ in tqdm(range(100)):\n",
        "        test_dropout_train()\n",
        "        test_dropout_eval()"
      ],
      "metadata": {
        "id": "BvYygPT8y1LD",
        "outputId": "40f87c53-840a-4085-c38b-0cd0dfb28464",
        "colab": {
          "base_uri": "https://localhost:8080/",
          "height": 49,
          "referenced_widgets": [
            "99c5449e66824b6384c14a9dd639d3b2",
            "b0c4984f2f854890be55b149745898bc",
            "ee137ca03f1f4113809cfdff1249d8fa",
            "c43e810aeebc4aaa96a02a7a2433e85d",
            "404163d0df714fee8aabdf716a0ae675",
            "8cd8551ba51d48dcb0a11f01dcf2036f",
            "e84c1dc58173488ca4f46a39772a3484",
            "c5333913e2134f55ad447b4158fa9f63",
            "05a998bf3bbc4097a25d884b28355441",
            "d79b6d6eb4114a2698d3d6c9eac644ae",
            "30beaeb95b0c4221a4d02ef741ca584c"
          ]
        }
      },
      "execution_count": 11,
      "outputs": [
        {
          "output_type": "display_data",
          "data": {
            "text/plain": [
              "  0%|          | 0/100 [00:00<?, ?it/s]"
            ],
            "application/vnd.jupyter.widget-view+json": {
              "version_major": 2,
              "version_minor": 0,
              "model_id": "99c5449e66824b6384c14a9dd639d3b2"
            }
          },
          "metadata": {}
        }
      ]
    },
    {
      "cell_type": "markdown",
      "metadata": {
        "id": "gvq4PLN_e6CO"
      },
      "source": [
        "Добавьте Dropout-слой в архитектуру сети, проведите оптимизацию с параметрами, заданными ранее, визуализируйте обученные веса. Есть ли разница между весами обученными с Dropout и без него? Параметр Dropout возьмите равным 0.7"
      ]
    },
    {
      "cell_type": "code",
      "metadata": {
        "id": "YsfjKbTye6CO"
      },
      "source": [
        "modelDp = nn.Sequential(\n",
        "                    nn.Flatten(1),\n",
        "                    DropoutLayer(p=0.7),\n",
        "                    nn.Linear(28 * 28, 10),\n",
        "                    nn.LogSoftmax(dim=-1)\n",
        "    )"
      ],
      "execution_count": 12,
      "outputs": []
    },
    {
      "cell_type": "code",
      "metadata": {
        "id": "KMlZHpXae6CR",
        "outputId": "414672a5-686b-4b05-8b1e-e01b7ce78f72",
        "colab": {
          "base_uri": "https://localhost:8080/",
          "height": 590
        }
      },
      "source": [
        "opt = torch.optim.Adam(modelDp.parameters(), lr=0.0005)\n",
        "train(modelDp, opt, 10)"
      ],
      "execution_count": 13,
      "outputs": [
        {
          "output_type": "display_data",
          "data": {
            "text/plain": [
              "<Figure size 432x288 with 1 Axes>"
            ],
            "image/png": "[encoded data removed]"
          },
          "metadata": {
            "needs_background": "light"
          }
        },
        {
          "output_type": "display_data",
          "data": {
            "text/plain": [
              "<Figure size 432x288 with 1 Axes>"
            ],
            "image/png": "[encoded data removed]"
          },
          "metadata": {
            "needs_background": "light"
          }
        },
        {
          "output_type": "stream",
          "name": "stdout",
          "text": [
            "Epoch: 9, val loss: 0.3452823008351688, val accuracy: 0.908030092716217\n"
          ]
        }
      ]
    },
    {
      "cell_type": "code",
      "metadata": {
        "id": "Xzzz9Tkje6CT",
        "outputId": "10ed29f9-d00e-4d5c-b457-386c592a0315",
        "colab": {
          "base_uri": "https://localhost:8080/",
          "height": 270
        }
      },
      "source": [
        "weights = modelDp._modules['2'].weight.detach().numpy()\n",
        "plt.figure(figsize=[10, 10])\n",
        "for i in range(10):\n",
        "    plt.subplot(5, 5, i + 1)\n",
        "    plt.title(\"Label: %i\" % i)\n",
        "    plt.imshow(weights[i].reshape([28, 28]), cmap='gray');"
      ],
      "execution_count": 14,
      "outputs": [
        {
          "output_type": "display_data",
          "data": {
            "text/plain": [
              "<Figure size 720x720 with 10 Axes>"
            ],
            "image/png": "[encoded data removed]"
          },
          "metadata": {
            "needs_background": "light"
          }
        }
      ]
    },
    {
      "cell_type": "markdown",
      "metadata": {
        "id": "C5_G8wzQe6CW"
      },
      "source": [
        "Обучите еще одну модель, в которой вместо Dropout-регуляризации используется L2-регуляризация с коэффициентом 0.05. (Параметр weight_decay в оптимизаторе). Визуализируйте веса и сравните с двумя предыдущими подходами."
      ]
    },
    {
      "cell_type": "code",
      "metadata": {
        "id": "ayzHCMx8e6CX"
      },
      "source": [
        "model = nn.Sequential(\n",
        "    nn.Flatten(1),\n",
        "    nn.Linear(input_size,num_classes),\n",
        "    nn.LogSoftmax(dim=-1)\n",
        "    )"
      ],
      "execution_count": 15,
      "outputs": []
    },
    {
      "cell_type": "code",
      "metadata": {
        "id": "pWYcCBZ7e6CZ",
        "outputId": "bd66d7ee-cee6-4b54-d93a-d8290de08d5e",
        "colab": {
          "base_uri": "https://localhost:8080/",
          "height": 590
        }
      },
      "source": [
        "opt = torch.optim.Adam(model.parameters(), lr=0.0005, weight_decay=0.05)\n",
        "train(model, opt, 10)"
      ],
      "execution_count": 16,
      "outputs": [
        {
          "output_type": "display_data",
          "data": {
            "text/plain": [
              "<Figure size 432x288 with 1 Axes>"
            ],
            "image/png": "[encoded data removed]"
          },
          "metadata": {
            "needs_background": "light"
          }
        },
        {
          "output_type": "display_data",
          "data": {
            "text/plain": [
              "<Figure size 432x288 with 1 Axes>"
            ],
            "image/png": "[encoded data removed]"
          },
          "metadata": {
            "needs_background": "light"
          }
        },
        {
          "output_type": "stream",
          "name": "stdout",
          "text": [
            "Epoch: 9, val loss: 0.592697533814213, val accuracy: 0.884592592716217\n"
          ]
        }
      ]
    },
    {
      "cell_type": "code",
      "metadata": {
        "id": "BJbA2mA3e6Cd",
        "outputId": "4fb37d07-eddb-4e4c-8f9e-312e78e1f740",
        "colab": {
          "base_uri": "https://localhost:8080/",
          "height": 270
        }
      },
      "source": [
        "weights = model._modules['1'].weight.detach().numpy()\n",
        "plt.figure(figsize=[10, 10])\n",
        "for i in range(10):\n",
        "    plt.subplot(5, 5, i + 1)\n",
        "    plt.title(\"Label: %i\" % i)\n",
        "    plt.imshow(weights[i].reshape([28, 28]), cmap='gray');"
      ],
      "execution_count": 17,
      "outputs": [
        {
          "output_type": "display_data",
          "data": {
            "text/plain": [
              "<Figure size 720x720 with 10 Axes>"
            ],
            "image/png": "[encoded data removed]"
          },
          "metadata": {
            "needs_background": "light"
          }
        }
      ]
    },
    {
      "cell_type": "markdown",
      "metadata": {
        "id": "nKtMonw3e6Cf"
      },
      "source": [
        "## BatchNorm2d\n",
        "\n",
        "Реализуйте BatchNormalization слой для сверточной сети\n",
        "\n",
        "* `nn.Parameter` нужно использовать для того, чтобы определить обучаемые параметры для сети\n",
        "* буфферы нужно использовать для других тензоров, которые должны возвращаться в `state_dict()` модели, но для которых не нужно вычислять градиенты\n",
        "* В чем разница между register_buffer, register_parameter: [тык](https://stackoverflow.com/questions/57540745/what-is-the-difference-between-register-parameter-and-register-buffer-in-pytorch)\n",
        "* для буфферов не должны считаться градиенты, используте `.detach()` при операциях с тензорами, по которым считаются градиенты\n",
        "* Для того, чтобы заработал [broadcast](https://pytorch.org/docs/stable/notes/broadcasting.html) между тензорами разных рзаменностей, можно использовать .view(1, -1, 1, 1)\n"
      ]
    },
    {
      "cell_type": "code",
      "source": [
        "torch.arange(3).shape, torch.arange(3).view(1, -1, 1, 1).shape"
      ],
      "metadata": {
        "colab": {
          "base_uri": "https://localhost:8080/"
        },
        "id": "_sR3ASBhoRPf",
        "outputId": "b2f46f38-455d-4328-c226-3d3900c09c11"
      },
      "execution_count": 18,
      "outputs": [
        {
          "output_type": "execute_result",
          "data": {
            "text/plain": [
              "(torch.Size([3]), torch.Size([1, 3, 1, 1]))"
            ]
          },
          "metadata": {},
          "execution_count": 18
        }
      ]
    },
    {
      "cell_type": "code",
      "source": [
        "torch.zeros([2, 3, 4, 4]) - torch.arange(3).view(1, -1, 1, 1)"
      ],
      "metadata": {
        "colab": {
          "base_uri": "https://localhost:8080/"
        },
        "id": "ORr5C8JXoNlA",
        "outputId": "eb7552dd-d646-4a97-f81b-1b7e58948630"
      },
      "execution_count": 19,
      "outputs": [
        {
          "output_type": "execute_result",
          "data": {
            "text/plain": [
              "tensor([[[[ 0.,  0.,  0.,  0.],\n",
              "          [ 0.,  0.,  0.,  0.],\n",
              "          [ 0.,  0.,  0.,  0.],\n",
              "          [ 0.,  0.,  0.,  0.]],\n",
              "\n",
              "         [[-1., -1., -1., -1.],\n",
              "          [-1., -1., -1., -1.],\n",
              "          [-1., -1., -1., -1.],\n",
              "          [-1., -1., -1., -1.]],\n",
              "\n",
              "         [[-2., -2., -2., -2.],\n",
              "          [-2., -2., -2., -2.],\n",
              "          [-2., -2., -2., -2.],\n",
              "          [-2., -2., -2., -2.]]],\n",
              "\n",
              "\n",
              "        [[[ 0.,  0.,  0.,  0.],\n",
              "          [ 0.,  0.,  0.,  0.],\n",
              "          [ 0.,  0.,  0.,  0.],\n",
              "          [ 0.,  0.,  0.,  0.]],\n",
              "\n",
              "         [[-1., -1., -1., -1.],\n",
              "          [-1., -1., -1., -1.],\n",
              "          [-1., -1., -1., -1.],\n",
              "          [-1., -1., -1., -1.]],\n",
              "\n",
              "         [[-2., -2., -2., -2.],\n",
              "          [-2., -2., -2., -2.],\n",
              "          [-2., -2., -2., -2.],\n",
              "          [-2., -2., -2., -2.]]]])"
            ]
          },
          "metadata": {},
          "execution_count": 19
        }
      ]
    },
    {
      "cell_type": "code",
      "metadata": {
        "id": "LWvaRXmOe6Cg"
      },
      "source": [
        "# эту ячейку в тестах я буду сохранять в отдельный файл, поэтому не нужно\n",
        "# изменять имя класса, убирать импорты (добавлять, в принципе, можно)\n",
        "# добавлять в ячейку какой-то посторонний код, не связанный с реализацией этого класса\n",
        "\n",
        "from typing import Optional, Any\n",
        "import torch\n",
        "import torch.nn as nn\n",
        "import torch.nn.functional as F\n",
        "\n",
        "class BatchNorm2dLayer(nn.Module): # не надо переименовыввать этот класс\n",
        "    \"\"\"\n",
        "    https://pytorch.org/docs/stable/generated/torch.nn.BatchNorm2d.html\n",
        "    \"\"\"\n",
        "\n",
        "    def __init__(self, num_features, eps=1e-05, momentum=0.1, affine=True, track_running_stats=True, device=None):\n",
        "        super().__init__()\n",
        "\n",
        "        self.eps = eps\n",
        "        self.momentum = momentum\n",
        "        self.affine = affine\n",
        "        self.num_features = num_features\n",
        "\n",
        "        self.track_running_stats = track_running_stats\n",
        "\n",
        "        if self.affine:\n",
        "            self.weight = nn.Parameter(torch.ones(num_features, device=device), requires_grad=True)\n",
        "            self.bias = nn.Parameter(torch.zeros(num_features, device=device), requires_grad=True)\n",
        "        else:\n",
        "            self.register_parameter(\"weight\", None)\n",
        "            self.register_parameter(\"bias\", None)\n",
        "\n",
        "        if self.track_running_stats:\n",
        "            self.register_buffer('running_mean', torch.zeros(num_features, device=device))\n",
        "            self.register_buffer('running_var', torch.ones(num_features, device=device))\n",
        "\n",
        "            self.register_buffer('num_batches_tracked',\n",
        "                                 torch.tensor(0, dtype=torch.long, device=device))\n",
        "\n",
        "            self.num_batches_tracked: Optional[torch.Tensor]\n",
        "        else:\n",
        "            self.register_buffer(\"running_mean\", None)\n",
        "            self.register_buffer(\"running_var\", None)\n",
        "            self.register_buffer(\"num_batches_tracked\", None)\n",
        "\n",
        "\n",
        "    def forward(self, input_tensor):\n",
        "        \n",
        "        # вычисляем mean + var по каналам для всего батча\n",
        "        # Обратите внимание на предложение в документации \"The standard-deviation is calculated via ...\"\n",
        "        # \n",
        "        # В результате должно получиться 2 тензора размерности [ self.num_features ] (средние, дисперсии для всех каналов)\n",
        "        # Обратите внимание, что mean/var принимает аргументом параметр dim: `dim is a list of dimensions, reduce over all of them.`\n",
        "        # То есть если передать список размерностей, то среднее будет считаться по всем указанным размерностям. Размерности нумеруются с нуля\n",
        "        # \n",
        "        # То есть для тензора [ batch_size, channels, width, heigth ] .mean(dim=[2, 3]) посчитает среднее значения пикселей для каждой картинке.\n",
        "        # Ваша задача усреднить по ВСЕМ картинкам и всем пикселям, нужно добавить еще одну размерность в список размерностей для усреднения\n",
        "\n",
        "        # CODE\n",
        "        batch_size = input_tensor.shape[0]\n",
        "        batch_norm_coef = batch_size / (batch_size - 1)\n",
        "\n",
        "        _in_ch = input_tensor.shape[1]\n",
        "\n",
        "        mean_ = torch.mean(input_tensor, dim=[0, 2, 3], keepdim=True).detach()\n",
        "        var_ = torch.mean((input_tensor - mean_)**2, dim=[0, 2, 3], keepdim=True).detach()\n",
        "        if self.track_running_stats and self.training:\n",
        "            self.num_batches_tracked += 1\n",
        "            self.running_mean = (1-self.momentum) * self.running_mean + self.momentum * mean_.reshape(-1)\n",
        "            self.running_var = (1-self.momentum) * self.running_var + self.momentum * var_.reshape(-1) * batch_norm_coef\n",
        "            # обновляем self.running_var, self.running_mean, self.num_batches_tracked\n",
        "            # Как обновить? Смотрите Note в документации BatchNorm2d\n",
        "            # не забываем сделать detach\n",
        "            # CODE\n",
        "\n",
        "        if self.track_running_stats and not self.training:\n",
        "            mean_ = self.running_mean.reshape((1, self.num_features, 1, 1))\n",
        "            var_ = self.running_var.reshape((1, self.num_features, 1, 1))\n",
        "            # в этом случае исползуем подсчитанные во время тренировки средние значения по каналам\n",
        "            # CODE\n",
        "\n",
        "\n",
        "        # по формуле из документации нормализуем данные\n",
        "        # обратите внимание на хинты перед этой ячейкой\n",
        "        # CODE\n",
        "        pred = (input_tensor - mean_) / torch.sqrt(var_ + self.eps) \n",
        "\n",
        "        # если есть обучаемые параметры для аффинного преобразования, делаем это преобразование\n",
        "        # тут тоже пригодятся хинты\n",
        "        # CODE\n",
        "        if self.affine:\n",
        "            pred = self.weight.reshape(1, self.num_features, 1, 1) * pred + self.bias.reshape(1, self.num_features, 1, 1)\n",
        "\n",
        "        return pred\n",
        "\n",
        "    def __repr__(self):\n",
        "        return (\n",
        "            \"BatchNorm2dLayer({num_features}, eps={eps}, momentum={momentum}, affine={affine}, \"\n",
        "            \"track_running_stats={track_running_stats})\".format(**self.__dict__)\n",
        "        )"
      ],
      "execution_count": 21,
      "outputs": []
    },
    {
      "cell_type": "code",
      "source": [
        "from tqdm.auto import tqdm\n",
        "\n",
        "def _test_batch_norm(bn, torch_bn, description=\"train\"):\n",
        "\n",
        "    batch_size = 2\n",
        "    image_size = (3, 3)\n",
        "\n",
        "    for i in range(3):\n",
        "        batch = torch.rand([ batch_size, torch_bn.num_features, *image_size ])\n",
        "        batch_clone = batch.clone()\n",
        "\n",
        "        my_bn_out    = bn.forward(batch)\n",
        "        torch_bn_out = torch_bn.forward(batch)\n",
        "\n",
        "        # print(\"my_bn_out\", my_bn_out)\n",
        "        # print(\"torch_bn_out\", torch_bn_out)\n",
        "\n",
        "        assert (batch_clone == batch).all(), \"batch was not changed inside module\"\n",
        "\n",
        "        # check buffers\n",
        "        assert torch_bn.num_batches_tracked == bn.num_batches_tracked, f\"{description}: num_batches_tracked mismatch: {torch_bn.num_batches_tracked} == {bn.num_batches_tracked}\"\n",
        "        \n",
        "        if torch_bn.track_running_stats:\n",
        "            assert bn.running_mean.requires_grad == False, \"bn.running_mean should not requires_grad. Use .detach() for per batch means\"\n",
        "            assert bn.running_var.requires_grad == False, \"bn.running_var should not requires_grad. Use .detach() for per batch vars\"\n",
        "\n",
        "            assert torch_bn.running_mean.allclose(bn.running_mean), f\"{description}: running_mean mismatch: {torch_bn.running_mean} == {bn.running_mean}\"\n",
        "            assert torch_bn.running_var.allclose(bn.running_var, rtol=0.1), f\"{description}: running_var mismatch: {torch_bn.running_var} == {bn.running_var}\"\n",
        "\n",
        "        # check parameters\n",
        "        if torch_bn.affine:\n",
        "            assert torch_bn.weight.allclose(bn.weight), f\"{description}: weight mismatch: {torch_bn.weight} == {bn.weight}\"\n",
        "            assert torch_bn.bias.allclose(bn.bias), f\"{description}: bias mismatch: {torch_bn.bias} == {bn.bias}\"\n",
        "\n",
        "        assert torch_bn_out.allclose(my_bn_out, atol=1e-04, rtol=0.1), f\"{description}: {i} torch normalized batch equals to yours one\"\n",
        "\n",
        "    return\n",
        "\n",
        "\n",
        "def test_batch_norm_2d():\n",
        "\n",
        "    with torch.no_grad():\n",
        "\n",
        "        for num_channels in (1, 2, 3):\n",
        "\n",
        "            test_descr = f\"train: [channels={num_channels}]\"\n",
        "\n",
        "            bn = BatchNorm2dLayer(num_channels, track_running_stats=True).train()\n",
        "            torch_bn = nn.BatchNorm2d(num_channels, track_running_stats=True).train()\n",
        "\n",
        "            _test_batch_norm(bn, torch_bn, description=test_descr)\n",
        "\n",
        "            bn.eval()\n",
        "            torch_bn.eval()\n",
        "            \n",
        "            test_descr = f\"eval: [channels={num_channels}]\"\n",
        "            _test_batch_norm(bn, torch_bn, description=test_descr)\n",
        "        \n",
        "def test_batch_norm_2d_do_not_track_running_stats():\n",
        "\n",
        "    with torch.no_grad():\n",
        "\n",
        "        for num_channels in (1, 2, 3):\n",
        "\n",
        "            test_descr = f\"train: [channels={num_channels}]\"\n",
        "\n",
        "            bn = BatchNorm2dLayer(num_channels, track_running_stats=False).train()\n",
        "            torch_bn = nn.BatchNorm2d(num_channels, track_running_stats=False).train()\n",
        "\n",
        "            _test_batch_norm(bn, torch_bn, description=test_descr)\n",
        "\n",
        "            bn.eval()\n",
        "            torch_bn.eval()\n",
        "            \n",
        "            test_descr = f\"eval: [channels={num_channels}]\"\n",
        "            _test_batch_norm(bn, torch_bn, description=test_descr)\n",
        "        \n",
        "def test_batch_norm_2d_do_not_track_running_stats_not_affine():\n",
        "\n",
        "    with torch.no_grad():\n",
        "\n",
        "        for num_channels in (1, 2, 3):\n",
        "\n",
        "            test_descr = f\"train: [channels={num_channels}]\"\n",
        "\n",
        "            bn = BatchNorm2dLayer(num_channels, track_running_stats=False, affine=False).train()\n",
        "            torch_bn = nn.BatchNorm2d(num_channels, track_running_stats=False, affine=False).train()\n",
        "\n",
        "            _test_batch_norm(bn, torch_bn, description=test_descr)\n",
        "\n",
        "            bn.eval()\n",
        "            torch_bn.eval()\n",
        "            \n",
        "            test_descr = f\"eval: [channels={num_channels}]\"\n",
        "            _test_batch_norm(bn, torch_bn, description=test_descr)\n",
        "        \n",
        "\n",
        "seed_everything(42)\n",
        "\n",
        "if need_run_tests_and_training:\n",
        "    for _ in tqdm(range(100)):\n",
        "        test_batch_norm_2d()\n",
        "        test_batch_norm_2d_do_not_track_running_stats()\n",
        "        test_batch_norm_2d_do_not_track_running_stats_not_affine()"
      ],
      "metadata": {
        "id": "b3DvFg-ggTOm",
        "outputId": "fb189abf-4ff2-4ee9-9d10-82b2949f6f31",
        "colab": {
          "base_uri": "https://localhost:8080/",
          "height": 49,
          "referenced_widgets": [
            "99e967888a92403ea66b53e700c8212a",
            "b210f5365da845cb976e2b0f88ec47c3",
            "b7df685a0eeb45ceaf76f6473a42f3c9",
            "8a59e6353e5d43bb8651b955c3538e13",
            "ec62c0e15f7145ff996418ab29aec8d0",
            "f32358f938ef4592b6f82f63250e74e1",
            "6ce5fb43826b4d5fb328c569d64759b0",
            "8f7880ff6e9a4a6087a1404d1812aa05",
            "c71a65e11e16453e899078b1029f638c",
            "63d7321ae78844c1aa9e647c75f8d552",
            "1154be2197ba498da365bc1959c463f2"
          ]
        }
      },
      "execution_count": 22,
      "outputs": [
        {
          "output_type": "display_data",
          "data": {
            "text/plain": [
              "  0%|          | 0/100 [00:00<?, ?it/s]"
            ],
            "application/vnd.jupyter.widget-view+json": {
              "version_major": 2,
              "version_minor": 0,
              "model_id": "99e967888a92403ea66b53e700c8212a"
            }
          },
          "metadata": {}
        }
      ]
    },
    {
      "cell_type": "markdown",
      "metadata": {
        "id": "_tpNTUWVe6Ci"
      },
      "source": [
        "Обучите сверточную сеть с batch_norm'ом"
      ]
    },
    {
      "cell_type": "code",
      "metadata": {
        "id": "406kS0wFe6Co"
      },
      "source": [
        "modelBN = nn.Sequential(\n",
        "    BatchNorm2dLayer(1),\n",
        "    nn.Conv2d(1, 2, kernel_size=3, padding=1),\n",
        "    nn.ReLU(),\n",
        "    BatchNorm2dLayer(2),\n",
        "    nn.Conv2d(2, 4, kernel_size=3, padding=1),\n",
        "    nn.ReLU(),\n",
        "    BatchNorm2dLayer(4),\n",
        "    nn.Conv2d(4, 1, kernel_size=3, padding=1),\n",
        "    nn.Flatten(1),\n",
        "    nn.Linear(28 * 28 * 1, num_classes),\n",
        "    nn.LogSoftmax(dim=-1)\n",
        "    )"
      ],
      "execution_count": 23,
      "outputs": []
    },
    {
      "cell_type": "code",
      "metadata": {
        "id": "Uqt2bVKWe6Cq",
        "outputId": "76607268-0f8b-4e71-9f01-a57b34be1465",
        "colab": {
          "base_uri": "https://localhost:8080/",
          "height": 590
        }
      },
      "source": [
        "opt = torch.optim.RMSprop(modelBN.parameters(), lr=0.01)\n",
        "train(modelBN, opt, 3)"
      ],
      "execution_count": 24,
      "outputs": [
        {
          "output_type": "display_data",
          "data": {
            "text/plain": [
              "<Figure size 432x288 with 1 Axes>"
            ],
            "image/png": "[encoded data removed]"
          },
          "metadata": {
            "needs_background": "light"
          }
        },
        {
          "output_type": "display_data",
          "data": {
            "text/plain": [
              "<Figure size 432x288 with 1 Axes>"
            ],
            "image/png": "[encoded data removed]"
          },
          "metadata": {
            "needs_background": "light"
          }
        },
        {
          "output_type": "stream",
          "name": "stdout",
          "text": [
            "Epoch: 2, val loss: 0.3331477877365637, val accuracy: 0.8999208807945251\n"
          ]
        }
      ]
    },
    {
      "cell_type": "code",
      "source": [
        "for m in modelBN.modules():\n",
        "    if isinstance(m, BatchNorm2dLayer):\n",
        "        print(m)\n",
        "        print(\"Parameters:\", \"weight       =\", m.weight.data,  \"bias        =\", m.bias.data)\n",
        "        print(\"Buffers:   \", \"running_mean =\", m.running_mean, \"running_var =\", m.running_var)\n",
        "        print(\"\\n\")"
      ],
      "metadata": {
        "id": "rLfxoI2zY30Z",
        "outputId": "b89df972-c8ff-4d5e-c8ab-a4607c64cae0",
        "colab": {
          "base_uri": "https://localhost:8080/"
        }
      },
      "execution_count": 25,
      "outputs": [
        {
          "output_type": "stream",
          "name": "stdout",
          "text": [
            "BatchNorm2dLayer(1, eps=1e-05, momentum=0.1, affine=True, track_running_stats=True)\n",
            "Parameters: weight       = tensor([0.5506]) bias        = tensor([0.4088])\n",
            "Buffers:    running_mean = tensor([0.1302]) running_var = tensor([0.0955])\n",
            "\n",
            "\n",
            "BatchNorm2dLayer(2, eps=1e-05, momentum=0.1, affine=True, track_running_stats=True)\n",
            "Parameters: weight       = tensor([0.5895, 0.7933]) bias        = tensor([ 0.3283, -0.0038])\n",
            "Buffers:    running_mean = tensor([9.3260e-01, 5.6052e-45]) running_var = tensor([2.6326e-01, 5.6052e-45])\n",
            "\n",
            "\n",
            "BatchNorm2dLayer(4, eps=1e-05, momentum=0.1, affine=True, track_running_stats=True)\n",
            "Parameters: weight       = tensor([0.2807, 0.7131, 0.1955, 0.7726]) bias        = tensor([-0.0099,  0.0037,  0.0477,  0.0032])\n",
            "Buffers:    running_mean = tensor([2.3902e-02, 5.6052e-45, 1.9642e-01, 5.6052e-45]) running_var = tensor([1.0476e-02, 5.6052e-45, 1.6120e-01, 5.6052e-45])\n",
            "\n",
            "\n"
          ]
        }
      ]
    },
    {
      "cell_type": "code",
      "source": [],
      "metadata": {
        "id": "QWbPfXPyV4m4"
      },
      "execution_count": 25,
      "outputs": []
    }
  ]
}